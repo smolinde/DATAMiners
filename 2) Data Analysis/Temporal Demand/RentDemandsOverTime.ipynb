{
 "cells": [
  {
   "cell_type": "markdown",
   "metadata": {},
   "source": [
    "## Temporal Demand Patterns and Seasonality ##\n",
    "\n",
    "This script generates four datasets with aggregated rents for different time dimensions. There is a possibility to check if the sum of rents in all datasets is equal and an option to save all datasets as a csv."
   ]
  },
  {
   "cell_type": "code",
   "execution_count": 1,
   "metadata": {},
   "outputs": [],
   "source": [
    "# Import required libraries\n",
    "\n",
    "import pandas as pd\n",
    "import numpy as np\n",
    "import matplotlib as mpl\n",
    "import matplotlib.pyplot as plt\n",
    "\n",
    "# Prepare the data\n",
    "Dataset = pd.read_csv('boston_2019.csv', sep=',')\n",
    "df = pd.DataFrame(Dataset['start_time'])\n",
    "times = pd.to_datetime(df.start_time)\n",
    "\n",
    "# Calculate rents per dayhours:\n",
    "resultPerDaytime = df.groupby([times.dt.hour]).agg(lambda col: col.tolist())\n",
    "dfPerDaytime = pd.DataFrame(resultPerDaytime)\n",
    "dfPerDaytime['Daytime'] = range(0, len(dfPerDaytime))\n",
    "dfPerDaytime = dfPerDaytime.set_index('Daytime')\n",
    "dfPerDaytime['Count'] = ''\n",
    "for i in range(0, len(dfPerDaytime)):\n",
    "    dfPerDaytime['Count'].iloc[i] = len(dfPerDaytime['start_time'].iloc[i])\n",
    "\n",
    "dfPerDaytime = dfPerDaytime.drop('start_time', axis='columns')\n",
    "\n",
    "# Calculate rents per weekdays:\n",
    "resultPerWeekday = df.groupby([times.dt.weekday]).agg(lambda col: col.tolist())\n",
    "dfPerWeekday = pd.DataFrame(resultPerWeekday)\n",
    "dfPerWeekday['Weekday'] = range(0, len(dfPerWeekday))\n",
    "dfPerWeekday = dfPerWeekday.set_index('Weekday')\n",
    "dfPerWeekday['Count'] = ''\n",
    "for i in range(0, len(dfPerWeekday)):\n",
    "    dfPerWeekday['Count'].iloc[i] = len(dfPerWeekday['start_time'].iloc[i])\n",
    "\n",
    "dfPerWeekday = dfPerWeekday.drop('start_time', axis='columns')\n",
    "\n",
    "# Calculate rents per months:\n",
    "resultPerMonth = df.groupby([times.dt.month]).agg(lambda col: col.tolist())\n",
    "dfPerMonth = pd.DataFrame(resultPerMonth)\n",
    "dfPerMonth['Month'] = range(0, len(dfPerMonth))\n",
    "dfPerMonth = dfPerMonth.set_index('Month')\n",
    "dfPerMonth['Count'] = ''\n",
    "for i in range(0, len(dfPerMonth)):\n",
    "    dfPerMonth['Count'].iloc[i] = len(dfPerMonth['start_time'].iloc[i])\n",
    "\n",
    "dfPerMonth = dfPerMonth.drop('start_time', axis='columns')\n",
    "\n",
    "# Calculate rents per calendar weeks, optional:\n",
    "resultPerCalendarWeek = df.groupby([times.dt.isocalendar().week]).agg(lambda col: col.tolist())\n",
    "dfPerCalendarWeek = pd.DataFrame(resultPerCalendarWeek)\n",
    "dfPerCalendarWeek['Weeknumber'] = range(0, len(dfPerCalendarWeek))\n",
    "dfPerCalendarWeek = dfPerCalendarWeek.set_index('Weeknumber')\n",
    "dfPerCalendarWeek['Count'] = ''\n",
    "for i in range(0, len(dfPerCalendarWeek)):\n",
    "    dfPerCalendarWeek['Count'].iloc[i] = len(dfPerCalendarWeek['start_time'].iloc[i])\n",
    "\n",
    "dfPerCalendarWeek = dfPerCalendarWeek.drop('start_time', axis='columns')"
   ]
  },
  {
   "cell_type": "code",
   "execution_count": 2,
   "metadata": {},
   "outputs": [
    {
     "name": "stdout",
     "output_type": "stream",
     "text": [
      "True\n"
     ]
    }
   ],
   "source": [
    "# If the output is 'True', everything is fine!\n",
    "print(len(Dataset)\n",
    "      == dfPerMonth[\"Count\"].sum()\n",
    "      == dfPerCalendarWeek[\"Count\"].sum()\n",
    "      == dfPerWeekday[\"Count\"].sum()\n",
    "      == dfPerDaytime[\"Count\"].sum()\n",
    "     )"
   ]
  },
  {
   "cell_type": "code",
   "execution_count": 3,
   "metadata": {},
   "outputs": [],
   "source": [
    "# Export all datasets as a csv:\n",
    "dfPerDaytime.to_csv(\"RentsPerDaytime_2019.csv\")\n",
    "dfPerWeekday.to_csv(\"RentsPerWeekday_2019.csv\")\n",
    "dfPerCalendarWeek.to_csv(\"RentsPerCalendarWeek_2019.csv\")\n",
    "dfPerMonth.to_csv(\"RentsPerMonth_2019.csv\")"
   ]
  },
  {
   "cell_type": "code",
   "execution_count": null,
   "metadata": {},
   "outputs": [],
   "source": []
  }
 ],
 "metadata": {
  "kernelspec": {
   "display_name": "Python 3",
   "language": "python",
   "name": "python3"
  },
  "language_info": {
   "codemirror_mode": {
    "name": "ipython",
    "version": 3
   },
   "file_extension": ".py",
   "mimetype": "text/x-python",
   "name": "python",
   "nbconvert_exporter": "python",
   "pygments_lexer": "ipython3",
   "version": "3.8.5"
  }
 },
 "nbformat": 4,
 "nbformat_minor": 4
}
