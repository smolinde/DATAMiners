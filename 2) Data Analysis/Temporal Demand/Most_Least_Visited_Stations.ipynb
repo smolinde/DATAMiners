{
 "cells": [
  {
   "cell_type": "markdown",
   "metadata": {},
   "source": [
    "# Most and least visited stations"
   ]
  },
  {
   "cell_type": "markdown",
   "metadata": {},
   "source": [
    "In this script we want to find out which are the most and least visited start and end stations."
   ]
  },
  {
   "cell_type": "code",
   "execution_count": 4,
   "metadata": {},
   "outputs": [
    {
     "data": {
      "text/html": [
       "<div>\n",
       "<style scoped>\n",
       "    .dataframe tbody tr th:only-of-type {\n",
       "        vertical-align: middle;\n",
       "    }\n",
       "\n",
       "    .dataframe tbody tr th {\n",
       "        vertical-align: top;\n",
       "    }\n",
       "\n",
       "    .dataframe thead th {\n",
       "        text-align: right;\n",
       "    }\n",
       "</style>\n",
       "<table border=\"1\" class=\"dataframe\">\n",
       "  <thead>\n",
       "    <tr style=\"text-align: right;\">\n",
       "      <th></th>\n",
       "      <th>start_time</th>\n",
       "      <th>end_time</th>\n",
       "      <th>start_station_id</th>\n",
       "      <th>end_station_id</th>\n",
       "      <th>start_station_name</th>\n",
       "      <th>end_station_name</th>\n",
       "      <th>bike_id</th>\n",
       "      <th>user_type</th>\n",
       "    </tr>\n",
       "  </thead>\n",
       "  <tbody>\n",
       "    <tr>\n",
       "      <th>0</th>\n",
       "      <td>2019-01-01 00:09:13.7980</td>\n",
       "      <td>2019-01-01 00:15:25.3360</td>\n",
       "      <td>80</td>\n",
       "      <td>179</td>\n",
       "      <td>MIT Stata Center at Vassar St / Main St</td>\n",
       "      <td>MIT Vassar St</td>\n",
       "      <td>3689</td>\n",
       "      <td>Subscriber</td>\n",
       "    </tr>\n",
       "    <tr>\n",
       "      <th>1</th>\n",
       "      <td>2019-01-01 00:33:56.1820</td>\n",
       "      <td>2019-01-01 00:38:20.8800</td>\n",
       "      <td>117</td>\n",
       "      <td>189</td>\n",
       "      <td>Binney St / Sixth St</td>\n",
       "      <td>Kendall T</td>\n",
       "      <td>4142</td>\n",
       "      <td>Subscriber</td>\n",
       "    </tr>\n",
       "    <tr>\n",
       "      <th>2</th>\n",
       "      <td>2019-01-01 00:41:54.6000</td>\n",
       "      <td>2019-01-01 00:49:33.2730</td>\n",
       "      <td>68</td>\n",
       "      <td>96</td>\n",
       "      <td>Central Square at Mass Ave / Essex St</td>\n",
       "      <td>Cambridge Main Library at Broadway / Trowbridg...</td>\n",
       "      <td>1628</td>\n",
       "      <td>Subscriber</td>\n",
       "    </tr>\n",
       "    <tr>\n",
       "      <th>3</th>\n",
       "      <td>2019-01-01 00:43:32.5710</td>\n",
       "      <td>2019-01-01 00:49:37.4260</td>\n",
       "      <td>89</td>\n",
       "      <td>334</td>\n",
       "      <td>Harvard Law School at Mass Ave / Jarvis St</td>\n",
       "      <td>Mass Ave at Hadley/Walden</td>\n",
       "      <td>2969</td>\n",
       "      <td>Subscriber</td>\n",
       "    </tr>\n",
       "    <tr>\n",
       "      <th>4</th>\n",
       "      <td>2019-01-01 00:49:56.4640</td>\n",
       "      <td>2019-01-01 01:01:17.7010</td>\n",
       "      <td>73</td>\n",
       "      <td>367</td>\n",
       "      <td>Harvard Square at Brattle St / Eliot St</td>\n",
       "      <td>Vassal Lane at Tobin/VLUS</td>\n",
       "      <td>3469</td>\n",
       "      <td>Subscriber</td>\n",
       "    </tr>\n",
       "  </tbody>\n",
       "</table>\n",
       "</div>"
      ],
      "text/plain": [
       "                 start_time                  end_time  start_station_id  \\\n",
       "0  2019-01-01 00:09:13.7980  2019-01-01 00:15:25.3360                80   \n",
       "1  2019-01-01 00:33:56.1820  2019-01-01 00:38:20.8800               117   \n",
       "2  2019-01-01 00:41:54.6000  2019-01-01 00:49:33.2730                68   \n",
       "3  2019-01-01 00:43:32.5710  2019-01-01 00:49:37.4260                89   \n",
       "4  2019-01-01 00:49:56.4640  2019-01-01 01:01:17.7010                73   \n",
       "\n",
       "   end_station_id                          start_station_name  \\\n",
       "0             179     MIT Stata Center at Vassar St / Main St   \n",
       "1             189                        Binney St / Sixth St   \n",
       "2              96       Central Square at Mass Ave / Essex St   \n",
       "3             334  Harvard Law School at Mass Ave / Jarvis St   \n",
       "4             367     Harvard Square at Brattle St / Eliot St   \n",
       "\n",
       "                                    end_station_name  bike_id   user_type  \n",
       "0                                      MIT Vassar St     3689  Subscriber  \n",
       "1                                          Kendall T     4142  Subscriber  \n",
       "2  Cambridge Main Library at Broadway / Trowbridg...     1628  Subscriber  \n",
       "3                          Mass Ave at Hadley/Walden     2969  Subscriber  \n",
       "4                          Vassal Lane at Tobin/VLUS     3469  Subscriber  "
      ]
     },
     "execution_count": 4,
     "metadata": {},
     "output_type": "execute_result"
    }
   ],
   "source": [
    "import pandas as pd\n",
    "\n",
    "df_2019 = pd.read_csv(\"boston_2019.csv\", sep=\",\")\n",
    "df_2019.head()"
   ]
  },
  {
   "cell_type": "code",
   "execution_count": 5,
   "metadata": {
    "scrolled": false
   },
   "outputs": [
    {
     "name": "stdout",
     "output_type": "stream",
     "text": [
      "Most popular start stations: \n",
      "MIT at Mass Ave / Amherst St               61056\n",
      "Central Square at Mass Ave / Essex St      50997\n",
      "MIT Stata Center at Vassar St / Main St    47197\n",
      "South Station - 700 Atlantic Ave           44427\n",
      "Ames St at Main St                         39128\n",
      "                                           ...  \n",
      "Washington St at Walsh Playground             33\n",
      "American Legion Hwy at Canterbury St          21\n",
      "Mobile Temporary Station 2                     3\n",
      "MTL-ECO5.1-01                                  1\n",
      "8D QC Station 01                               1\n",
      "Name: start_station_name, Length: 363, dtype: int64\n",
      "\n",
      "Most popular end stations: \n",
      "MIT at Mass Ave / Amherst St               56986\n",
      "Central Square at Mass Ave / Essex St      51442\n",
      "Ames St at Main St                         46295\n",
      "Nashua Street at Red Auerbach Way          46245\n",
      "MIT Stata Center at Vassar St / Main St    41828\n",
      "                                           ...  \n",
      "American Legion Hwy at Canterbury St          22\n",
      "Mobile Temporary Station 2                     6\n",
      "8D QC Station 02                               1\n",
      "MTL-ECO4-01                                    1\n",
      "Warehouse Lab PBSC                             1\n",
      "Name: end_station_name, Length: 364, dtype: int64\n"
     ]
    }
   ],
   "source": [
    "print('Most popular start stations: ')\n",
    "unique_start_stations = df_2019['start_station_name'].value_counts()\n",
    "print(unique_start_stations)\n",
    "print ()\n",
    "\n",
    "print('Most popular end stations: ')\n",
    "unique_end_stations = df_2019['end_station_name'].value_counts()\n",
    "print(unique_end_stations)"
   ]
  },
  {
   "cell_type": "code",
   "execution_count": 6,
   "metadata": {},
   "outputs": [
    {
     "name": "stdout",
     "output_type": "stream",
     "text": [
      "╒══════════════════════════════════════╤═════════╤══════════════════════════════════════╤═════════╕\n",
      "│ start_station                        │   rents │ end_station                          │   rents │\n",
      "╞══════════════════════════════════════╪═════════╪══════════════════════════════════════╪═════════╡\n",
      "│ Washington St at Walsh Playground    │      33 │ American Legion Hwy at Canterbury St │      22 │\n",
      "├──────────────────────────────────────┼─────────┼──────────────────────────────────────┼─────────┤\n",
      "│ American Legion Hwy at Canterbury St │      21 │ Mobile Temporary Station 2           │       6 │\n",
      "├──────────────────────────────────────┼─────────┼──────────────────────────────────────┼─────────┤\n",
      "│ Mobile Temporary Station 2           │       3 │ 8D QC Station 02                     │       6 │\n",
      "├──────────────────────────────────────┼─────────┼──────────────────────────────────────┼─────────┤\n",
      "│ 8D QC Station 01                     │       1 │ Warehouse Lab PBSC                   │       1 │\n",
      "├──────────────────────────────────────┼─────────┼──────────────────────────────────────┼─────────┤\n",
      "│ MTL-ECO5.1-01                        │       1 │ MTL-ECO4-01                          │       1 │\n",
      "╘══════════════════════════════════════╧═════════╧══════════════════════════════════════╧═════════╛\n",
      "╒═════════════════════════════════════════╤═════════╤═════════════════════════════════════════╤═════════╕\n",
      "│ start_station                           │   rents │ end_station                             │   rents │\n",
      "╞═════════════════════════════════════════╪═════════╪═════════════════════════════════════════╪═════════╡\n",
      "│ MIT at Mass Ave / Amherst St            │   61056 │ MIT at Mass Ave / Amherst St            │   56986 │\n",
      "├─────────────────────────────────────────┼─────────┼─────────────────────────────────────────┼─────────┤\n",
      "│ Central Square at Mass Ave / Essex St   │   50997 │ Central Square at Mass Ave / Essex St   │   51442 │\n",
      "├─────────────────────────────────────────┼─────────┼─────────────────────────────────────────┼─────────┤\n",
      "│ MIT Stata Center at Vassar St / Main St │   47197 │ Ames St at Main St                      │   46295 │\n",
      "├─────────────────────────────────────────┼─────────┼─────────────────────────────────────────┼─────────┤\n",
      "│ South Station - 700 Atlantic Ave        │   44427 │ Nashua Street at Red Auerbach Way       │   46245 │\n",
      "├─────────────────────────────────────────┼─────────┼─────────────────────────────────────────┼─────────┤\n",
      "│ Ames St at Main St                      │   39128 │ MIT Stata Center at Vassar St / Main St │   41828 │\n",
      "╘═════════════════════════════════════════╧═════════╧═════════════════════════════════════════╧═════════╛\n"
     ]
    }
   ],
   "source": [
    "from tabulate import tabulate\n",
    "\n",
    "table_most_visited_stations = [['start_station', 'rents', 'end_station', 'rents'], ['MIT at Mass Ave / Amherst St', 61056, 'MIT at Mass Ave / Amherst St', 56986], ['Central Square at Mass Ave / Essex St', 50997, 'Central Square at Mass Ave / Essex St', 51442 ], ['MIT Stata Center at Vassar St / Main St', 47197, 'Ames St at Main St',  46295],\n",
    "                                ['South Station - 700 Atlantic Ave', 44427, 'Nashua Street at Red Auerbach Way', 46245], ['Ames St at Main St', 39128, 'MIT Stata Center at Vassar St / Main St', 41828]]\n",
    "\n",
    "table_least_visited_stations =[['start_station', 'rents', 'end_station', 'rents'], ['Washington St at Walsh Playground', 33, 'American Legion Hwy at Canterbury St', 22], ['American Legion Hwy at Canterbury St', 21, 'Mobile Temporary Station 2', 6], ['Mobile Temporary Station 2', 3, '8D QC Station 02', 6], \n",
    "                               ['8D QC Station 01', 1, 'Warehouse Lab PBSC', 1], ['MTL-ECO5.1-01', 1, 'MTL-ECO4-01', 1]]\n",
    "\n",
    "print(tabulate(table_least_visited_stations, headers = 'firstrow', tablefmt = 'fancy_grid'))\n",
    "print(tabulate(table_most_visited_stations, headers = 'firstrow', tablefmt = 'fancy_grid'))"
   ]
  },
  {
   "cell_type": "code",
   "execution_count": null,
   "metadata": {},
   "outputs": [],
   "source": []
  }
 ],
 "metadata": {
  "kernelspec": {
   "display_name": "Python 3",
   "language": "python",
   "name": "python3"
  },
  "language_info": {
   "codemirror_mode": {
    "name": "ipython",
    "version": 3
   },
   "file_extension": ".py",
   "mimetype": "text/x-python",
   "name": "python",
   "nbconvert_exporter": "python",
   "pygments_lexer": "ipython3",
   "version": "3.8.5"
  }
 },
 "nbformat": 4,
 "nbformat_minor": 4
}
