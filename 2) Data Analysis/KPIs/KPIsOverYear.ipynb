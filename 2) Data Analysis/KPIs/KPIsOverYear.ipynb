{
 "cells": [
  {
   "cell_type": "markdown",
   "metadata": {},
   "source": [
    "## KPI's Over Year ##\n",
    "\n",
    "The followig scripts generate data for the following 3 KPI's:\n",
    "- Unique bike stations used per hour\n",
    "- Unique bikes used per hour\n",
    "- Total rents per hour\n",
    "The resulted datasets will be visualized in another script."
   ]
  },
  {
   "cell_type": "code",
   "execution_count": 1,
   "metadata": {},
   "outputs": [
    {
     "name": "stdout",
     "output_type": "stream",
     "text": [
      "Done!\n"
     ]
    }
   ],
   "source": [
    "# Import Pandas and Numpy\n",
    "import pandas as pd\n",
    "import numpy as np\n",
    "\n",
    "# Prepare necessary data\n",
    "Dataset = pd.read_csv('boston_2019.csv', sep=',')\n",
    "df = pd.DataFrame(Dataset[['start_time', 'start_station_id', 'end_station_id']])\n",
    "times = pd.to_datetime(df.start_time)\n",
    "\n",
    "# Aggregate data by date and hour to get hourly values over the whole year.\n",
    "df_agg = df.groupby([times.dt.date, times.dt.hour]).agg(lambda col: col.tolist())\n",
    "# Combine the columns start_station_id and end_station_id into one column\n",
    "df_agg['both_stations'] = df_agg['start_station_id'] + df_agg['end_station_id']\n",
    "\n",
    "# prepare a new DataFrame with a new index and the lists of stations\n",
    "df_result = pd.DataFrame(df_agg['both_stations'])\n",
    "df_result['hour'] = ''\n",
    "\n",
    "# Write date and hour for every line to identify exactly the hour\n",
    "for i in range(0, len(df_agg)):\n",
    "    df_result['hour'].iloc[i] = pd.to_datetime(df_agg['start_time'].iloc[i][0]).floor('h')\n",
    "    \n",
    "df_result = df_result.set_index('hour')\n",
    "\n",
    "# Create an empty column. This will be filled in the next step!\n",
    "df_result['stations_count'] = ''\n",
    "\n",
    "# The following loop iterates through all cells and counts unique station ID's.\n",
    "for i in range(0, len(df_result)):\n",
    "    df_result['stations_count'].iloc[i] = len(np.unique(df_result['both_stations'].iloc[i]))\n",
    "\n",
    "# Select the required results and export them as a csv\n",
    "df_final_result = df_result['stations_count']\n",
    "df_final_result.to_csv('KPI_unique_stations_per_hour.csv')\n",
    "\n",
    "# If 'Done!' is the output everything went good and we have a new dataset for KPI unique stations used per hour.\n",
    "print('Done!')"
   ]
  },
  {
   "cell_type": "code",
   "execution_count": 2,
   "metadata": {},
   "outputs": [
    {
     "name": "stdout",
     "output_type": "stream",
     "text": [
      "Done!\n"
     ]
    }
   ],
   "source": [
    "# Import Pandas and Numpy\n",
    "import pandas as pd\n",
    "import numpy as np\n",
    "\n",
    "# Prepare necessary data\n",
    "Dataset = pd.read_csv('boston_2019.csv', sep=',')\n",
    "df = pd.DataFrame(Dataset[['start_time', 'bike_id']])\n",
    "times = pd.to_datetime(df.start_time)\n",
    "\n",
    "# Aggregate data by date and hour to get hourly values over the whole year.\n",
    "df_agg = df.groupby([times.dt.date, times.dt.hour]).agg(lambda col: col.tolist())\n",
    "\n",
    "# prepare a new DataFrame with a new index and the lists of bike ID's\n",
    "df_result = pd.DataFrame(df_agg['bike_id'])\n",
    "df_result['hour'] = ''\n",
    "\n",
    "# Write date and hour for every line to identify exactly the hour\n",
    "for i in range(0, len(df_agg)):\n",
    "    df_result['hour'].iloc[i] = pd.to_datetime(df_agg['start_time'].iloc[i][0]).floor('h')\n",
    "    \n",
    "df_result = df_result.set_index('hour')\n",
    "\n",
    "# Create an empty column. This will be filled in the next step!\n",
    "df_result['bikes_count'] = ''\n",
    "\n",
    "# The following loop iterates through all cells and counts unique bike ID's.\n",
    "for i in range(0, len(df_result)):\n",
    "    df_result['bikes_count'].iloc[i] = len(np.unique(df_result['bike_id'].iloc[i]))\n",
    "\n",
    "# Select the required results and export them as a csv\n",
    "df_final_result = df_result['bikes_count']\n",
    "df_final_result.to_csv('KPI_unique_bikes_per_hour.csv')\n",
    "\n",
    "# If 'Done!' is the output everything went good and we have a new dataset for KPI unique bikes used per hour.\n",
    "print('Done!')"
   ]
  },
  {
   "cell_type": "code",
   "execution_count": 3,
   "metadata": {},
   "outputs": [
    {
     "name": "stdout",
     "output_type": "stream",
     "text": [
      "Done!\n"
     ]
    }
   ],
   "source": [
    "# Import Pandas and Numpy\n",
    "import pandas as pd\n",
    "import numpy as np\n",
    "\n",
    "# Prepare necessary data\n",
    "Dataset = pd.read_csv('boston_2019.csv', sep=',')\n",
    "df = pd.DataFrame(Dataset['start_time'])\n",
    "times = pd.to_datetime(df.start_time)\n",
    "\n",
    "# Aggregate data by date and hour to get hourly values over the whole year.\n",
    "df_agg = df.groupby([times.dt.date, times.dt.hour]).agg(lambda col: col.tolist())\n",
    "\n",
    "# prepare a new DataFrame with a new index and the lists of rents\n",
    "df_result = pd.DataFrame(df_agg['start_time'])\n",
    "df_result['hour'] = ''\n",
    "\n",
    "# Write date and hour for every line to identify exactly the hour\n",
    "for i in range(0, len(df_agg)):\n",
    "    df_result['hour'].iloc[i] = pd.to_datetime(df_agg['start_time'].iloc[i][0]).floor('h')\n",
    "\n",
    "df_result = df_result.set_index('hour')\n",
    "\n",
    "# Create an empty column. This will be filled in the next step!\n",
    "df_result['rents_count'] = ''\n",
    "\n",
    "# The following loop iterates through all cells and counts the rents.\n",
    "for i in range(0, len(df_result)):\n",
    "    df_result['rents_count'].iloc[i] = len(df_result['start_time'].iloc[i])\n",
    "\n",
    "# Select the required results and export them as a csv\n",
    "df_final_result = df_result['rents_count']\n",
    "df_final_result.to_csv('KPI_total_rents_per_hour.csv')\n",
    "\n",
    "# If 'Done!' is the output everything went good and we have a new dataset for KPI total rents per hour.\n",
    "print('Done!')"
   ]
  },
  {
   "cell_type": "code",
   "execution_count": null,
   "metadata": {},
   "outputs": [],
   "source": []
  }
 ],
 "metadata": {
  "kernelspec": {
   "display_name": "Python 3",
   "language": "python",
   "name": "python3"
  },
  "language_info": {
   "codemirror_mode": {
    "name": "ipython",
    "version": 3
   },
   "file_extension": ".py",
   "mimetype": "text/x-python",
   "name": "python",
   "nbconvert_exporter": "python",
   "pygments_lexer": "ipython3",
   "version": "3.8.5"
  }
 },
 "nbformat": 4,
 "nbformat_minor": 4
}
