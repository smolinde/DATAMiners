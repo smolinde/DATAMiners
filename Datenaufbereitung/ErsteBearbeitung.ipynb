{
 "cells": [
  {
   "cell_type": "code",
   "execution_count": 1,
   "metadata": {},
   "outputs": [],
   "source": [
    "import pandas as pd\n",
    "import numpy as np\n",
    "Datensatz = pd.read_csv(\"boston_2019.csv\", sep=\",\")"
   ]
  },
  {
   "cell_type": "code",
   "execution_count": 2,
   "metadata": {
    "scrolled": true
   },
   "outputs": [
    {
     "data": {
      "text/plain": [
       "start_time            0\n",
       "end_time              0\n",
       "start_station_id      0\n",
       "end_station_id        0\n",
       "start_station_name    0\n",
       "end_station_name      0\n",
       "bike_id               0\n",
       "user_type             0\n",
       "dtype: int64"
      ]
     },
     "execution_count": 2,
     "metadata": {},
     "output_type": "execute_result"
    }
   ],
   "source": [
    "Datensatz.isna().sum()"
   ]
  },
  {
   "cell_type": "code",
   "execution_count": 3,
   "metadata": {},
   "outputs": [
    {
     "data": {
      "text/html": [
       "<div>\n",
       "<style scoped>\n",
       "    .dataframe tbody tr th:only-of-type {\n",
       "        vertical-align: middle;\n",
       "    }\n",
       "\n",
       "    .dataframe tbody tr th {\n",
       "        vertical-align: top;\n",
       "    }\n",
       "\n",
       "    .dataframe thead th {\n",
       "        text-align: right;\n",
       "    }\n",
       "</style>\n",
       "<table border=\"1\" class=\"dataframe\">\n",
       "  <thead>\n",
       "    <tr style=\"text-align: right;\">\n",
       "      <th></th>\n",
       "      <th>start_time</th>\n",
       "      <th>end_time</th>\n",
       "      <th>start_station_id</th>\n",
       "      <th>end_station_id</th>\n",
       "      <th>start_station_name</th>\n",
       "      <th>end_station_name</th>\n",
       "      <th>bike_id</th>\n",
       "      <th>user_type</th>\n",
       "    </tr>\n",
       "  </thead>\n",
       "  <tbody>\n",
       "    <tr>\n",
       "      <th>0</th>\n",
       "      <td>2019-01-01 00:09:13.7980</td>\n",
       "      <td>2019-01-01 00:15:25.3360</td>\n",
       "      <td>80</td>\n",
       "      <td>179</td>\n",
       "      <td>MIT Stata Center at Vassar St / Main St</td>\n",
       "      <td>MIT Vassar St</td>\n",
       "      <td>3689</td>\n",
       "      <td>Subscriber</td>\n",
       "    </tr>\n",
       "    <tr>\n",
       "      <th>1</th>\n",
       "      <td>2019-01-01 00:33:56.1820</td>\n",
       "      <td>2019-01-01 00:38:20.8800</td>\n",
       "      <td>117</td>\n",
       "      <td>189</td>\n",
       "      <td>Binney St / Sixth St</td>\n",
       "      <td>Kendall T</td>\n",
       "      <td>4142</td>\n",
       "      <td>Subscriber</td>\n",
       "    </tr>\n",
       "    <tr>\n",
       "      <th>2</th>\n",
       "      <td>2019-01-01 00:41:54.6000</td>\n",
       "      <td>2019-01-01 00:49:33.2730</td>\n",
       "      <td>68</td>\n",
       "      <td>96</td>\n",
       "      <td>Central Square at Mass Ave / Essex St</td>\n",
       "      <td>Cambridge Main Library at Broadway / Trowbridg...</td>\n",
       "      <td>1628</td>\n",
       "      <td>Subscriber</td>\n",
       "    </tr>\n",
       "    <tr>\n",
       "      <th>3</th>\n",
       "      <td>2019-01-01 00:43:32.5710</td>\n",
       "      <td>2019-01-01 00:49:37.4260</td>\n",
       "      <td>89</td>\n",
       "      <td>334</td>\n",
       "      <td>Harvard Law School at Mass Ave / Jarvis St</td>\n",
       "      <td>Mass Ave at Hadley/Walden</td>\n",
       "      <td>2969</td>\n",
       "      <td>Subscriber</td>\n",
       "    </tr>\n",
       "    <tr>\n",
       "      <th>4</th>\n",
       "      <td>2019-01-01 00:49:56.4640</td>\n",
       "      <td>2019-01-01 01:01:17.7010</td>\n",
       "      <td>73</td>\n",
       "      <td>367</td>\n",
       "      <td>Harvard Square at Brattle St / Eliot St</td>\n",
       "      <td>Vassal Lane at Tobin/VLUS</td>\n",
       "      <td>3469</td>\n",
       "      <td>Subscriber</td>\n",
       "    </tr>\n",
       "    <tr>\n",
       "      <th>5</th>\n",
       "      <td>2019-01-01 00:50:01.0370</td>\n",
       "      <td>2019-01-01 00:59:10.3190</td>\n",
       "      <td>104</td>\n",
       "      <td>76</td>\n",
       "      <td>Harvard University Radcliffe Quadrangle at She...</td>\n",
       "      <td>Central Sq Post Office / Cambridge City Hall a...</td>\n",
       "      <td>4050</td>\n",
       "      <td>Customer</td>\n",
       "    </tr>\n",
       "    <tr>\n",
       "      <th>6</th>\n",
       "      <td>2019-01-01 00:54:48.9310</td>\n",
       "      <td>2019-01-01 00:59:53.5810</td>\n",
       "      <td>80</td>\n",
       "      <td>179</td>\n",
       "      <td>MIT Stata Center at Vassar St / Main St</td>\n",
       "      <td>MIT Vassar St</td>\n",
       "      <td>3861</td>\n",
       "      <td>Subscriber</td>\n",
       "    </tr>\n",
       "    <tr>\n",
       "      <th>7</th>\n",
       "      <td>2019-01-01 01:00:48.0620</td>\n",
       "      <td>2019-01-01 01:07:53.3960</td>\n",
       "      <td>4</td>\n",
       "      <td>46</td>\n",
       "      <td>Tremont St at E Berkeley St</td>\n",
       "      <td>Christian Science Plaza - Massachusetts Ave at...</td>\n",
       "      <td>3571</td>\n",
       "      <td>Subscriber</td>\n",
       "    </tr>\n",
       "    <tr>\n",
       "      <th>8</th>\n",
       "      <td>2019-01-01 01:03:34.4120</td>\n",
       "      <td>2019-01-01 01:26:07.8520</td>\n",
       "      <td>91</td>\n",
       "      <td>78</td>\n",
       "      <td>One Kendall Square at Hampshire St / Portland St</td>\n",
       "      <td>Union Square - Somerville</td>\n",
       "      <td>3066</td>\n",
       "      <td>Customer</td>\n",
       "    </tr>\n",
       "    <tr>\n",
       "      <th>9</th>\n",
       "      <td>2019-01-01 01:08:56.1240</td>\n",
       "      <td>2019-01-01 01:16:30.3240</td>\n",
       "      <td>36</td>\n",
       "      <td>39</td>\n",
       "      <td>Copley Square - Dartmouth St at Boylston St</td>\n",
       "      <td>Washington St at Rutland St</td>\n",
       "      <td>3443</td>\n",
       "      <td>Subscriber</td>\n",
       "    </tr>\n",
       "  </tbody>\n",
       "</table>\n",
       "</div>"
      ],
      "text/plain": [
       "                 start_time                  end_time  start_station_id  \\\n",
       "0  2019-01-01 00:09:13.7980  2019-01-01 00:15:25.3360                80   \n",
       "1  2019-01-01 00:33:56.1820  2019-01-01 00:38:20.8800               117   \n",
       "2  2019-01-01 00:41:54.6000  2019-01-01 00:49:33.2730                68   \n",
       "3  2019-01-01 00:43:32.5710  2019-01-01 00:49:37.4260                89   \n",
       "4  2019-01-01 00:49:56.4640  2019-01-01 01:01:17.7010                73   \n",
       "5  2019-01-01 00:50:01.0370  2019-01-01 00:59:10.3190               104   \n",
       "6  2019-01-01 00:54:48.9310  2019-01-01 00:59:53.5810                80   \n",
       "7  2019-01-01 01:00:48.0620  2019-01-01 01:07:53.3960                 4   \n",
       "8  2019-01-01 01:03:34.4120  2019-01-01 01:26:07.8520                91   \n",
       "9  2019-01-01 01:08:56.1240  2019-01-01 01:16:30.3240                36   \n",
       "\n",
       "   end_station_id                                 start_station_name  \\\n",
       "0             179            MIT Stata Center at Vassar St / Main St   \n",
       "1             189                               Binney St / Sixth St   \n",
       "2              96              Central Square at Mass Ave / Essex St   \n",
       "3             334         Harvard Law School at Mass Ave / Jarvis St   \n",
       "4             367            Harvard Square at Brattle St / Eliot St   \n",
       "5              76  Harvard University Radcliffe Quadrangle at She...   \n",
       "6             179            MIT Stata Center at Vassar St / Main St   \n",
       "7              46                        Tremont St at E Berkeley St   \n",
       "8              78   One Kendall Square at Hampshire St / Portland St   \n",
       "9              39        Copley Square - Dartmouth St at Boylston St   \n",
       "\n",
       "                                    end_station_name  bike_id   user_type  \n",
       "0                                      MIT Vassar St     3689  Subscriber  \n",
       "1                                          Kendall T     4142  Subscriber  \n",
       "2  Cambridge Main Library at Broadway / Trowbridg...     1628  Subscriber  \n",
       "3                          Mass Ave at Hadley/Walden     2969  Subscriber  \n",
       "4                          Vassal Lane at Tobin/VLUS     3469  Subscriber  \n",
       "5  Central Sq Post Office / Cambridge City Hall a...     4050    Customer  \n",
       "6                                      MIT Vassar St     3861  Subscriber  \n",
       "7  Christian Science Plaza - Massachusetts Ave at...     3571  Subscriber  \n",
       "8                          Union Square - Somerville     3066    Customer  \n",
       "9                        Washington St at Rutland St     3443  Subscriber  "
      ]
     },
     "execution_count": 3,
     "metadata": {},
     "output_type": "execute_result"
    }
   ],
   "source": [
    "Datensatz.head(10)"
   ]
  },
  {
   "cell_type": "code",
   "execution_count": 6,
   "metadata": {},
   "outputs": [
    {
     "name": "stdout",
     "output_type": "stream",
     "text": [
      "         bike_id\n",
      "0           3689\n",
      "1           4142\n",
      "2           1628\n",
      "3           2969\n",
      "4           3469\n",
      "...          ...\n",
      "2522766     4503\n",
      "2522767     5326\n",
      "2522768     4483\n",
      "2522769     3955\n",
      "2522770     3205\n",
      "\n",
      "[2522771 rows x 1 columns]\n"
     ]
    }
   ],
   "source": [
    "df = pd.DataFrame(Datensatz[\"bike_id\"])\n",
    "print(df)"
   ]
  },
  {
   "cell_type": "code",
   "execution_count": 7,
   "metadata": {},
   "outputs": [
    {
     "name": "stdout",
     "output_type": "stream",
     "text": [
      "      Fahrrad-ID  Ausleihen\n",
      "0           4223       1462\n",
      "1           4109       1395\n",
      "2           3545       1387\n",
      "3           4029       1386\n",
      "4           4351       1383\n",
      "...          ...        ...\n",
      "4647        4615          1\n",
      "4648        4619          1\n",
      "4649        4626          1\n",
      "4650        4636          1\n",
      "4651        6173          1\n",
      "\n",
      "[4652 rows x 2 columns]\n"
     ]
    }
   ],
   "source": [
    "rohdaten = df.groupby(by=\"bike_id\").bike_id.count()\n",
    "arr_ausleihen = rohdaten.to_numpy()\n",
    "arr_fahrraeder = np.sort(Datensatz[\"bike_id\"].unique())\n",
    "df_erg = pd.DataFrame({\"Fahrrad-ID\":arr_fahrraeder,\"Ausleihen\":arr_ausleihen})\n",
    "df_erg_sortiert = df_erg.sort_values(by=\"Ausleihen\", ascending=False, ignore_index=True)\n",
    "print(df_erg_sortiert)"
   ]
  },
  {
   "cell_type": "markdown",
   "metadata": {},
   "source": [
    "1) Task one from description (Denis), check start/end time\n",
    "2) Demand per station (heatmap) (Leon), check station_id\n",
    "3) Correlation between weather and rents per day (seasons) (Emiliano)\n",
    "4) Correlation of time and rents per day (Jinhee), user_type\n",
    "5) Correlation between default working days and different holidays (Ved), check unique station ids\n",
    "6) Correlation between distances of stations and demand on those stations (Michelle), check bike_id (4 digits etc.)\n",
    "\n"
   ]
  },
  {
   "cell_type": "code",
   "execution_count": null,
   "metadata": {},
   "outputs": [],
   "source": []
  }
 ],
 "metadata": {
  "kernelspec": {
   "display_name": "Python 3",
   "language": "python",
   "name": "python3"
  },
  "language_info": {
   "codemirror_mode": {
    "name": "ipython",
    "version": 3
   },
   "file_extension": ".py",
   "mimetype": "text/x-python",
   "name": "python",
   "nbconvert_exporter": "python",
   "pygments_lexer": "ipython3",
   "version": "3.8.5"
  }
 },
 "nbformat": 4,
 "nbformat_minor": 2
}
