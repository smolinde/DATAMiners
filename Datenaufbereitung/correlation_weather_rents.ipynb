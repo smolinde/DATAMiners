{
 "cells": [
  {
   "cell_type": "markdown",
   "metadata": {},
   "source": [
    "# Visualization of the correlation between weather and rents"
   ]
  },
  {
   "cell_type": "markdown",
   "metadata": {},
   "source": [
    "This script offers a visualization of the correlation between weather and demand.\n"
   ]
  },
  {
   "cell_type": "code",
   "execution_count": 1,
   "metadata": {},
   "outputs": [
    {
     "name": "stdout",
     "output_type": "stream",
     "text": [
      "<class 'pandas.core.frame.DataFrame'>\n",
      "Int64Index: 8665 entries, 34642 to 43282\n",
      "Data columns (total 4 columns):\n",
      " #   Column     Non-Null Count  Dtype         \n",
      "---  ------     --------------  -----         \n",
      " 0   date_time  8665 non-null   datetime64[ns]\n",
      " 1   max_temp   8665 non-null   float64       \n",
      " 2   min_temp   8665 non-null   float64       \n",
      " 3   precip     8665 non-null   float64       \n",
      "dtypes: datetime64[ns](1), float64(3)\n",
      "memory usage: 338.5 KB\n"
     ]
    },
    {
     "name": "stderr",
     "output_type": "stream",
     "text": [
      "<ipython-input-1-d582a75f7890>:15: SettingWithCopyWarning: \n",
      "A value is trying to be set on a copy of a slice from a DataFrame\n",
      "\n",
      "See the caveats in the documentation: https://pandas.pydata.org/pandas-docs/stable/user_guide/indexing.html#returning-a-view-versus-a-copy\n",
      "  df19.sort_values(by=\"date_time\",inplace=True)\n"
     ]
    }
   ],
   "source": [
    "import pandas as pd\n",
    "import numpy as np\n",
    "import matplotlib as mpl\n",
    "import matplotlib.pyplot as plt\n",
    "from datetime import date, time, datetime, timedelta \n",
    "\n",
    "df_weather = pd.read_csv('weather.csv', sep=',')\n",
    "\n",
    "# only use weather data from 2019\n",
    "first_date = datetime(year=2019, day=1, month=1)\n",
    "last_date=datetime(year=2019, day=31, month=12)\n",
    "\n",
    "df_weather[\"date_time\"] = pd.to_datetime(df_weather[\"date_time\"], infer_datetime_format=True)\n",
    "df19 = df_weather[(df_weather[\"date_time\"]>=first_date)&(df_weather[\"date_time\"]<=last_date)]\n",
    "\n",
    "df19.sort_values(by=\"date_time\",inplace=True)\n",
    "\n",
    "df19.info()"
   ]
  },
  {
   "cell_type": "markdown",
   "metadata": {},
   "source": [
    "## General temperature distribution in 2019"
   ]
  },
  {
   "cell_type": "code",
   "execution_count": 2,
   "metadata": {},
   "outputs": [
    {
     "data": {
      "image/png": "[encoded data removed]",
      "text/plain": [
       "<Figure size 432x288 with 1 Axes>"
      ]
     },
     "metadata": {
      "needs_background": "light"
     },
     "output_type": "display_data"
    }
   ],
   "source": [
    "monthly_index = df19.set_index('date_time')\n",
    "df19_monthly= monthly_index.resample('M').agg({'max_temp': np.max, 'min_temp': np.min})\n",
    "df19_monthly['months'] = ['Jan', 'Feb', 'Mar', 'Apr', 'May', 'June', 'July', 'Aug', 'Sep', 'Oct', 'Nov', 'Dec']\n",
    "\n",
    "df19_monthly.set_index(['months'],inplace=True)\n",
    "df19_monthly.plot()\n",
    "plt.show()"
   ]
  },
  {
   "cell_type": "markdown",
   "metadata": {},
   "source": [
    "## Rents per temperature"
   ]
  },
  {
   "cell_type": "code",
   "execution_count": 13,
   "metadata": {},
   "outputs": [
    {
     "data": {
      "text/html": [
       "<div>\n",
       "<style scoped>\n",
       "    .dataframe tbody tr th:only-of-type {\n",
       "        vertical-align: middle;\n",
       "    }\n",
       "\n",
       "    .dataframe tbody tr th {\n",
       "        vertical-align: top;\n",
       "    }\n",
       "\n",
       "    .dataframe thead th {\n",
       "        text-align: right;\n",
       "    }\n",
       "</style>\n",
       "<table border=\"1\" class=\"dataframe\">\n",
       "  <thead>\n",
       "    <tr style=\"text-align: right;\">\n",
       "      <th></th>\n",
       "      <th>date_time</th>\n",
       "    </tr>\n",
       "  </thead>\n",
       "  <tbody>\n",
       "    <tr>\n",
       "      <th>0</th>\n",
       "      <td>2019-01-01 00:00:00</td>\n",
       "    </tr>\n",
       "    <tr>\n",
       "      <th>1</th>\n",
       "      <td>2019-01-01 01:00:00</td>\n",
       "    </tr>\n",
       "    <tr>\n",
       "      <th>2</th>\n",
       "      <td>2019-01-01 01:00:00</td>\n",
       "    </tr>\n",
       "    <tr>\n",
       "      <th>3</th>\n",
       "      <td>2019-01-01 01:00:00</td>\n",
       "    </tr>\n",
       "    <tr>\n",
       "      <th>4</th>\n",
       "      <td>2019-01-01 01:00:00</td>\n",
       "    </tr>\n",
       "  </tbody>\n",
       "</table>\n",
       "</div>"
      ],
      "text/plain": [
       "            date_time\n",
       "0 2019-01-01 00:00:00\n",
       "1 2019-01-01 01:00:00\n",
       "2 2019-01-01 01:00:00\n",
       "3 2019-01-01 01:00:00\n",
       "4 2019-01-01 01:00:00"
      ]
     },
     "execution_count": 13,
     "metadata": {},
     "output_type": "execute_result"
    }
   ],
   "source": [
    "# import Boston 2019 dataset to find times of rents\n",
    "Dataset = pd.read_csv('boston_2019.csv', sep=',')\n",
    "df = pd.DataFrame(Dataset['start_time'])\n",
    "df['start_time'] = pd.to_datetime(df.start_time)\n",
    "\n",
    "# round start_time values to next nearest hour\n",
    "# name it datetime so that it can be merged with the dates of the weather dataset\n",
    "df['date_time'] = df['start_time'].dt.round('60min')\n",
    "df = df.drop('start_time', axis='columns')\n",
    "df.head()"
   ]
  },
  {
   "cell_type": "code",
   "execution_count": 15,
   "metadata": {},
   "outputs": [
    {
     "data": {
      "text/html": [
       "<div>\n",
       "<style scoped>\n",
       "    .dataframe tbody tr th:only-of-type {\n",
       "        vertical-align: middle;\n",
       "    }\n",
       "\n",
       "    .dataframe tbody tr th {\n",
       "        vertical-align: top;\n",
       "    }\n",
       "\n",
       "    .dataframe thead th {\n",
       "        text-align: right;\n",
       "    }\n",
       "</style>\n",
       "<table border=\"1\" class=\"dataframe\">\n",
       "  <thead>\n",
       "    <tr style=\"text-align: right;\">\n",
       "      <th></th>\n",
       "      <th>date_time</th>\n",
       "      <th>max_temp</th>\n",
       "      <th>min_temp</th>\n",
       "      <th>precip</th>\n",
       "    </tr>\n",
       "  </thead>\n",
       "  <tbody>\n",
       "    <tr>\n",
       "      <th>0</th>\n",
       "      <td>2019-01-01 00:00:00</td>\n",
       "      <td>5.6</td>\n",
       "      <td>5.6</td>\n",
       "      <td>1.0</td>\n",
       "    </tr>\n",
       "    <tr>\n",
       "      <th>1</th>\n",
       "      <td>2019-01-01 01:00:00</td>\n",
       "      <td>3.9</td>\n",
       "      <td>3.9</td>\n",
       "      <td>1.0</td>\n",
       "    </tr>\n",
       "    <tr>\n",
       "      <th>2</th>\n",
       "      <td>2019-01-01 01:00:00</td>\n",
       "      <td>3.9</td>\n",
       "      <td>3.9</td>\n",
       "      <td>1.0</td>\n",
       "    </tr>\n",
       "    <tr>\n",
       "      <th>3</th>\n",
       "      <td>2019-01-01 01:00:00</td>\n",
       "      <td>3.9</td>\n",
       "      <td>3.9</td>\n",
       "      <td>1.0</td>\n",
       "    </tr>\n",
       "    <tr>\n",
       "      <th>4</th>\n",
       "      <td>2019-01-01 01:00:00</td>\n",
       "      <td>3.9</td>\n",
       "      <td>3.9</td>\n",
       "      <td>1.0</td>\n",
       "    </tr>\n",
       "  </tbody>\n",
       "</table>\n",
       "</div>"
      ],
      "text/plain": [
       "            date_time  max_temp  min_temp  precip\n",
       "0 2019-01-01 00:00:00       5.6       5.6     1.0\n",
       "1 2019-01-01 01:00:00       3.9       3.9     1.0\n",
       "2 2019-01-01 01:00:00       3.9       3.9     1.0\n",
       "3 2019-01-01 01:00:00       3.9       3.9     1.0\n",
       "4 2019-01-01 01:00:00       3.9       3.9     1.0"
      ]
     },
     "execution_count": 15,
     "metadata": {},
     "output_type": "execute_result"
    }
   ],
   "source": [
    "newdf =df.merge(df19, on='date_time')\n",
    "newdf.head()"
   ]
  },
  {
   "cell_type": "code",
   "execution_count": 17,
   "metadata": {},
   "outputs": [
    {
     "data": {
      "text/html": [
       "<div>\n",
       "<style scoped>\n",
       "    .dataframe tbody tr th:only-of-type {\n",
       "        vertical-align: middle;\n",
       "    }\n",
       "\n",
       "    .dataframe tbody tr th {\n",
       "        vertical-align: top;\n",
       "    }\n",
       "\n",
       "    .dataframe thead th {\n",
       "        text-align: right;\n",
       "    }\n",
       "</style>\n",
       "<table border=\"1\" class=\"dataframe\">\n",
       "  <thead>\n",
       "    <tr style=\"text-align: right;\">\n",
       "      <th></th>\n",
       "      <th>date_time</th>\n",
       "      <th>max_temp</th>\n",
       "      <th>min_temp</th>\n",
       "      <th>precip</th>\n",
       "      <th>max_temp_intervall</th>\n",
       "      <th>min_temp_intervall</th>\n",
       "    </tr>\n",
       "  </thead>\n",
       "  <tbody>\n",
       "    <tr>\n",
       "      <th>0</th>\n",
       "      <td>2019-01-01 00:00:00</td>\n",
       "      <td>5.6</td>\n",
       "      <td>5.6</td>\n",
       "      <td>1.0</td>\n",
       "      <td>[6, 10]</td>\n",
       "      <td>[6, 10]</td>\n",
       "    </tr>\n",
       "    <tr>\n",
       "      <th>1</th>\n",
       "      <td>2019-01-01 01:00:00</td>\n",
       "      <td>3.9</td>\n",
       "      <td>3.9</td>\n",
       "      <td>1.0</td>\n",
       "      <td>[1, 5]</td>\n",
       "      <td>[1, 5]</td>\n",
       "    </tr>\n",
       "    <tr>\n",
       "      <th>2</th>\n",
       "      <td>2019-01-01 01:00:00</td>\n",
       "      <td>3.9</td>\n",
       "      <td>3.9</td>\n",
       "      <td>1.0</td>\n",
       "      <td>[1, 5]</td>\n",
       "      <td>[1, 5]</td>\n",
       "    </tr>\n",
       "    <tr>\n",
       "      <th>3</th>\n",
       "      <td>2019-01-01 01:00:00</td>\n",
       "      <td>3.9</td>\n",
       "      <td>3.9</td>\n",
       "      <td>1.0</td>\n",
       "      <td>[1, 5]</td>\n",
       "      <td>[1, 5]</td>\n",
       "    </tr>\n",
       "    <tr>\n",
       "      <th>4</th>\n",
       "      <td>2019-01-01 01:00:00</td>\n",
       "      <td>3.9</td>\n",
       "      <td>3.9</td>\n",
       "      <td>1.0</td>\n",
       "      <td>[1, 5]</td>\n",
       "      <td>[1, 5]</td>\n",
       "    </tr>\n",
       "  </tbody>\n",
       "</table>\n",
       "</div>"
      ],
      "text/plain": [
       "            date_time  max_temp  min_temp  precip max_temp_intervall  \\\n",
       "0 2019-01-01 00:00:00       5.6       5.6     1.0            [6, 10]   \n",
       "1 2019-01-01 01:00:00       3.9       3.9     1.0             [1, 5]   \n",
       "2 2019-01-01 01:00:00       3.9       3.9     1.0             [1, 5]   \n",
       "3 2019-01-01 01:00:00       3.9       3.9     1.0             [1, 5]   \n",
       "4 2019-01-01 01:00:00       3.9       3.9     1.0             [1, 5]   \n",
       "\n",
       "  min_temp_intervall  \n",
       "0            [6, 10]  \n",
       "1             [1, 5]  \n",
       "2             [1, 5]  \n",
       "3             [1, 5]  \n",
       "4             [1, 5]  "
      ]
     },
     "execution_count": 17,
     "metadata": {},
     "output_type": "execute_result"
    }
   ],
   "source": [
    "# assign a temperature intervall to each rent \n",
    "\n",
    "def transform_temp_to_intervall(x):\n",
    "    if x < -5:\n",
    "        return '[< -5]'\n",
    "    if x >= -5 and x <= 0 :\n",
    "        return '[-5, 0]'\n",
    "    if x > 0 and x <= 5:\n",
    "        return '[1, 5]'\n",
    "    if x > 5 and x <= 10:\n",
    "        return '[6, 10]'\n",
    "    if x > 10 and x <= 15:\n",
    "        return '[11, 15]'\n",
    "    if x > 15 and x <= 20:\n",
    "        return '[16, 20]'\n",
    "    if x > 20 and x <= 25:\n",
    "        return '[21, 25]'\n",
    "    if x > 25:\n",
    "        return '[> 25]'\n",
    "    \n",
    "newdf['max_temp_intervall'] = newdf['max_temp'].apply(transform_temp_to_intervall)\n",
    "newdf['min_temp_intervall'] = newdf['min_temp'].apply(transform_temp_to_intervall)\n",
    "newdf.head()"
   ]
  },
  {
   "cell_type": "code",
   "execution_count": 67,
   "metadata": {},
   "outputs": [
    {
     "name": "stdout",
     "output_type": "stream",
     "text": [
      "[21, 25]    591260\n",
      "[16, 20]    506959\n",
      "[11, 15]    430335\n",
      "[> 25]      384334\n",
      "[6, 10]     249438\n",
      "[1, 5]      206996\n",
      "[-5, 0]     100366\n",
      "[< -5]       26387\n",
      "Name: max_temp_intervall, dtype: int64\n",
      "[21, 25]    583315\n",
      "[16, 20]    515420\n",
      "[11, 15]    431302\n",
      "[> 25]      378806\n",
      "[6, 10]     250854\n",
      "[1, 5]      208769\n",
      "[-5, 0]     101216\n",
      "[< -5]       26393\n",
      "Name: min_temp_intervall, dtype: int64\n"
     ]
    }
   ],
   "source": [
    "min_temp_count = newdf.min_temp_intervall.value_counts()\n",
    "max_temp_count = newdf.max_temp_intervall.value_counts()\n",
    "print(max_temp_count)\n",
    "print(min_temp_count)"
   ]
  },
  {
   "cell_type": "markdown",
   "metadata": {},
   "source": [
    "Since the values of max and min temperatures don't differ too much, we will continue working with the maximum temperature values."
   ]
  },
  {
   "cell_type": "code",
   "execution_count": 74,
   "metadata": {},
   "outputs": [
    {
     "data": {
      "text/plain": [
       "<matplotlib.legend.Legend at 0x279184c8670>"
      ]
     },
     "execution_count": 74,
     "metadata": {},
     "output_type": "execute_result"
    },
    {
     "data": {
      "image/png": "[encoded data removed]",
      "text/plain": [
       "<Figure size 432x288 with 1 Axes>"
      ]
     },
     "metadata": {
      "needs_background": "light"
     },
     "output_type": "display_data"
    }
   ],
   "source": [
    "maxdata = pd.DataFrame(\n",
    "    {\"rents\": [26387, 100366, 206996, 249438, 430335, 506959, 591260, 384334]}, \n",
    "    index=['[< -5]', '[-5, 0]', '[1, 5]', '[6, 10]', '[11, 15]', '[16, 20]', '[21, 25]', '[> 25]'])\n",
    "\n",
    "maxdata.plot(label='rents')\n",
    "plt.title('Rents per temperature', fontweight=\"bold\")\n",
    "plt.xlabel('Temperature in degree Celsius')\n",
    "plt.ylabel('Rents')\n",
    "plt.legend()"
   ]
  },
  {
   "cell_type": "code",
   "execution_count": 71,
   "metadata": {},
   "outputs": [
    {
     "data": {
      "image/png": "[encoded data removed]",
      "text/plain": [
       "<Figure size 432x288 with 1 Axes>"
      ]
     },
     "metadata": {
      "needs_background": "light"
     },
     "output_type": "display_data"
    }
   ],
   "source": [
    "height = [26387, 100366, 206996, 249438, 430335, 506959, 591260, 384334]\n",
    "bars = ('[< -5]', '[-5, 0]', '[1, 5]', '[6, 10]', '[11, 15]', '[16, 20]', '[21, 25]', '[> 25]')\n",
    "x_pos = np.arange(len(bars))\n",
    " \n",
    "# Create bars and choose color\n",
    "plt.bar(x_pos, height, color = (0.5,0.1,0.5,0.6))\n",
    " \n",
    "# Add title and axis names\n",
    "plt.title('Rents per temperature')\n",
    "plt.xlabel('temperature')\n",
    "plt.ylabel('rents')\n",
    " \n",
    "# Create names on the x axis\n",
    "plt.xticks(x_pos, bars)\n",
    " \n",
    "# Show graph\n",
    "plt.show()"
   ]
  },
  {
   "cell_type": "markdown",
   "metadata": {},
   "source": [
    "## Correlation between precip and rents"
   ]
  },
  {
   "cell_type": "code",
   "execution_count": 40,
   "metadata": {},
   "outputs": [
    {
     "data": {
      "text/plain": [
       "0.0    2344951\n",
       "1.0     151124\n",
       "Name: precip, dtype: int64"
      ]
     },
     "execution_count": 40,
     "metadata": {},
     "output_type": "execute_result"
    }
   ],
   "source": [
    "# get number of rents that took place on rainy vs non-rainy days, 1.0 = rain, 0.0 = no rain\n",
    "rain_count = newdf.precip.value_counts()\n",
    "rain_count"
   ]
  },
  {
   "cell_type": "code",
   "execution_count": 41,
   "metadata": {},
   "outputs": [
    {
     "data": {
      "image/png": "[encoded data removed]",
      "text/plain": [
       "<Figure size 432x288 with 1 Axes>"
      ]
     },
     "metadata": {},
     "output_type": "display_data"
    }
   ],
   "source": [
    "labels = 'rain', 'no rain'\n",
    "sizes=[151124, 2344951]\n",
    "colors = ['lightskyblue', 'gold']\n",
    "explode = (0.1, 0)\n",
    "plt.pie(sizes, explode=explode, labels=labels, colors=colors,\n",
    "autopct='%1.1f%%', shadow=True, startangle=140)\n",
    "plt.title('Percentage of rainy and non-rainy days per rents', fontweight=\"bold\")\n",
    "plt.axis('equal')\n",
    "plt.show()"
   ]
  }
 ],
 "metadata": {
  "kernelspec": {
   "display_name": "Python 3",
   "language": "python",
   "name": "python3"
  },
  "language_info": {
   "codemirror_mode": {
    "name": "ipython",
    "version": 3
   },
   "file_extension": ".py",
   "mimetype": "text/x-python",
   "name": "python",
   "nbconvert_exporter": "python",
   "pygments_lexer": "ipython3",
   "version": "3.8.5"
  }
 },
 "nbformat": 4,
 "nbformat_minor": 4
}
