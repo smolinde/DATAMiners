{
 "cells": [
  {
   "cell_type": "code",
   "execution_count": 1,
   "metadata": {},
   "outputs": [],
   "source": [
    "import pandas as pd \n",
    "import numpy as np \n",
    "import matplotlib as mpl\n",
    "import matplotlib.pyplot as plt\n",
    "import matplotlib.gridspec as gridspec\n",
    "from datetime import date, time, datetime, timedelta "
   ]
  },
  {
   "cell_type": "code",
   "execution_count": 2,
   "metadata": {},
   "outputs": [],
   "source": [
    "Dataset = pd.read_csv(\"boston_2019.csv\", sep=',')"
   ]
  },
  {
   "cell_type": "code",
   "execution_count": 4,
   "metadata": {},
   "outputs": [
    {
     "data": {
      "text/html": [
       "<div>\n",
       "<style scoped>\n",
       "    .dataframe tbody tr th:only-of-type {\n",
       "        vertical-align: middle;\n",
       "    }\n",
       "\n",
       "    .dataframe tbody tr th {\n",
       "        vertical-align: top;\n",
       "    }\n",
       "\n",
       "    .dataframe thead th {\n",
       "        text-align: right;\n",
       "    }\n",
       "</style>\n",
       "<table border=\"1\" class=\"dataframe\">\n",
       "  <thead>\n",
       "    <tr style=\"text-align: right;\">\n",
       "      <th></th>\n",
       "      <th>date_time</th>\n",
       "    </tr>\n",
       "  </thead>\n",
       "  <tbody>\n",
       "    <tr>\n",
       "      <th>0</th>\n",
       "      <td>2019-01-01 00:00:00</td>\n",
       "    </tr>\n",
       "    <tr>\n",
       "      <th>1</th>\n",
       "      <td>2019-01-01 00:00:00</td>\n",
       "    </tr>\n",
       "    <tr>\n",
       "      <th>2</th>\n",
       "      <td>2019-01-01 00:00:00</td>\n",
       "    </tr>\n",
       "    <tr>\n",
       "      <th>3</th>\n",
       "      <td>2019-01-01 00:00:00</td>\n",
       "    </tr>\n",
       "    <tr>\n",
       "      <th>4</th>\n",
       "      <td>2019-01-01 00:00:00</td>\n",
       "    </tr>\n",
       "    <tr>\n",
       "      <th>...</th>\n",
       "      <td>...</td>\n",
       "    </tr>\n",
       "    <tr>\n",
       "      <th>2522766</th>\n",
       "      <td>2019-12-31 23:00:00</td>\n",
       "    </tr>\n",
       "    <tr>\n",
       "      <th>2522767</th>\n",
       "      <td>2019-12-31 23:00:00</td>\n",
       "    </tr>\n",
       "    <tr>\n",
       "      <th>2522768</th>\n",
       "      <td>2019-12-31 23:00:00</td>\n",
       "    </tr>\n",
       "    <tr>\n",
       "      <th>2522769</th>\n",
       "      <td>2019-12-31 23:00:00</td>\n",
       "    </tr>\n",
       "    <tr>\n",
       "      <th>2522770</th>\n",
       "      <td>2019-12-31 23:00:00</td>\n",
       "    </tr>\n",
       "  </tbody>\n",
       "</table>\n",
       "<p>2522771 rows × 1 columns</p>\n",
       "</div>"
      ],
      "text/plain": [
       "                  date_time\n",
       "0       2019-01-01 00:00:00\n",
       "1       2019-01-01 00:00:00\n",
       "2       2019-01-01 00:00:00\n",
       "3       2019-01-01 00:00:00\n",
       "4       2019-01-01 00:00:00\n",
       "...                     ...\n",
       "2522766 2019-12-31 23:00:00\n",
       "2522767 2019-12-31 23:00:00\n",
       "2522768 2019-12-31 23:00:00\n",
       "2522769 2019-12-31 23:00:00\n",
       "2522770 2019-12-31 23:00:00\n",
       "\n",
       "[2522771 rows x 1 columns]"
      ]
     },
     "execution_count": 4,
     "metadata": {},
     "output_type": "execute_result"
    }
   ],
   "source": [
    "#first we will reound the time for each hour to have a better sight \n",
    "#rounding time \n",
    "df = pd.DataFrame(Dataset['start_time'])\n",
    "df['start_time'] = pd.to_datetime(df.start_time)\n",
    "\n",
    "# round start_time values to next nearest hour\n",
    "# name it datetime so that it can be merged with the dates of the weather dataset\n",
    "df['date_time'] = df['start_time'].dt.floor('60min')\n",
    "df = df.drop('start_time', axis='columns')\n",
    "df"
   ]
  },
  {
   "cell_type": "code",
   "execution_count": 4,
   "metadata": {},
   "outputs": [
    {
     "data": {
      "text/html": [
       "<div>\n",
       "<style scoped>\n",
       "    .dataframe tbody tr th:only-of-type {\n",
       "        vertical-align: middle;\n",
       "    }\n",
       "\n",
       "    .dataframe tbody tr th {\n",
       "        vertical-align: top;\n",
       "    }\n",
       "\n",
       "    .dataframe thead th {\n",
       "        text-align: right;\n",
       "    }\n",
       "</style>\n",
       "<table border=\"1\" class=\"dataframe\">\n",
       "  <thead>\n",
       "    <tr style=\"text-align: right;\">\n",
       "      <th></th>\n",
       "      <th>date_time</th>\n",
       "      <th>user</th>\n",
       "    </tr>\n",
       "  </thead>\n",
       "  <tbody>\n",
       "    <tr>\n",
       "      <th>0</th>\n",
       "      <td>2019-01-01 00:00:00</td>\n",
       "      <td>Subscriber</td>\n",
       "    </tr>\n",
       "    <tr>\n",
       "      <th>1</th>\n",
       "      <td>2019-01-01 01:00:00</td>\n",
       "      <td>Subscriber</td>\n",
       "    </tr>\n",
       "    <tr>\n",
       "      <th>2</th>\n",
       "      <td>2019-01-01 01:00:00</td>\n",
       "      <td>Subscriber</td>\n",
       "    </tr>\n",
       "    <tr>\n",
       "      <th>3</th>\n",
       "      <td>2019-01-01 01:00:00</td>\n",
       "      <td>Subscriber</td>\n",
       "    </tr>\n",
       "    <tr>\n",
       "      <th>4</th>\n",
       "      <td>2019-01-01 01:00:00</td>\n",
       "      <td>Subscriber</td>\n",
       "    </tr>\n",
       "  </tbody>\n",
       "</table>\n",
       "</div>"
      ],
      "text/plain": [
       "            date_time        user\n",
       "0 2019-01-01 00:00:00  Subscriber\n",
       "1 2019-01-01 01:00:00  Subscriber\n",
       "2 2019-01-01 01:00:00  Subscriber\n",
       "3 2019-01-01 01:00:00  Subscriber\n",
       "4 2019-01-01 01:00:00  Subscriber"
      ]
     },
     "execution_count": 4,
     "metadata": {},
     "output_type": "execute_result"
    }
   ],
   "source": [
    "#we will ad user column to the dataframe\n",
    "df['user'] = Dataset['user_type']\n",
    "df.head()"
   ]
  },
  {
   "cell_type": "code",
   "execution_count": 5,
   "metadata": {},
   "outputs": [
    {
     "name": "stdout",
     "output_type": "stream",
     "text": [
      "date_time            user      \n",
      "2019-01-01 00:00:00  Subscriber     1\n",
      "2019-01-01 01:00:00  Customer       6\n",
      "                     Subscriber    12\n",
      "2019-01-01 02:00:00  Customer       4\n",
      "                     Subscriber    11\n",
      "                                   ..\n",
      "2019-12-31 22:00:00  Subscriber    33\n",
      "2019-12-31 23:00:00  Customer      11\n",
      "                     Subscriber    23\n",
      "2020-01-01 00:00:00  Customer       6\n",
      "                     Subscriber    21\n",
      "Length: 16893, dtype: int64\n"
     ]
    }
   ],
   "source": [
    "#we will group each hour how many subscribers or customers rent a bike \n",
    "data1 = df.groupby([\"date_time\",\"user\"]).size()\n",
    "print(data1)"
   ]
  },
  {
   "cell_type": "code",
   "execution_count": 6,
   "metadata": {},
   "outputs": [],
   "source": [
    "#we will add to the data frame a new column calle day to see \n",
    "#on how many bikes on each day of the week were rented (not over the year) \n",
    "df['day'] = df['date_time'].dt.day_name()"
   ]
  },
  {
   "cell_type": "code",
   "execution_count": 7,
   "metadata": {},
   "outputs": [
    {
     "name": "stdout",
     "output_type": "stream",
     "text": [
      "day        user      \n",
      "Friday     Customer       72876\n",
      "           Subscriber    312040\n",
      "Monday     Customer       62413\n",
      "           Subscriber    310352\n",
      "Saturday   Customer      121274\n",
      "           Subscriber    197606\n",
      "Sunday     Customer      105513\n",
      "           Subscriber    181123\n",
      "Thursday   Customer       61860\n",
      "           Subscriber    324124\n",
      "Tuesday    Customer       54829\n",
      "           Subscriber    329319\n",
      "Wednesday  Customer       55512\n",
      "           Subscriber    333930\n",
      "dtype: int64\n"
     ]
    }
   ],
   "source": [
    "#we will group this as efore but instead of hourly basis, daily basis\n",
    "data2 = df.groupby([\"day\",\"user\"]).size()\n",
    "print(data2)"
   ]
  },
  {
   "cell_type": "code",
   "execution_count": 47,
   "metadata": {},
   "outputs": [
    {
     "data": {
      "image/png": "[encoded data removed]",
      "text/plain": [
       "<Figure size 432x288 with 1 Axes>"
      ]
     },
     "metadata": {
      "needs_background": "light"
     },
     "output_type": "display_data"
    }
   ],
   "source": [
    "#make the graphik\n",
    "# set width of bar\n",
    "barWidth = 0.25\n",
    "\n",
    "# set height of bar\n",
    "bars1 = data2.loc[(data2.index.get_level_values('user') ==\"Subscriber\")].values\n",
    "bars2 = data2.loc[(data2.index.get_level_values('user') ==\"Customer\")].values\n",
    "\n",
    "\n",
    "# Set position of bar on X axis\n",
    "r1 = np.arange(len(bars1))\n",
    "r2 = [x + barWidth for x in r1]\n",
    "\n",
    "# Make the plot\n",
    "plt.bar(r1, bars1, color='orange', width=barWidth, edgecolor='white', label='Subscriber')\n",
    "plt.bar(r2, bars2, color='blue', width=barWidth, edgecolor='white', label='Customer')\n",
    "\n",
    "# Add xticks on the middle of the group bars\n",
    "plt.xlabel('group', fontweight='bold')\n",
    "plt.xticks([r + barWidth for r in range(len(bars1))], data2.index.get_level_values('day').unique())\n",
    "\n",
    "# Create legend & Show graphic\n",
    "plt.legend()\n",
    "plt.xlabel(\"Days over the year\")\n",
    "plt.ylabel(\"Rents\")\n",
    "plt.show()"
   ]
  },
  {
   "cell_type": "code",
   "execution_count": 10,
   "metadata": {},
   "outputs": [],
   "source": [
    "#add month column to see te month of the row\n",
    "df['month'] = df['date_time'].dt.month_name()"
   ]
  },
  {
   "cell_type": "code",
   "execution_count": 51,
   "metadata": {
    "scrolled": true
   },
   "outputs": [
    {
     "name": "stdout",
     "output_type": "stream",
     "text": [
      "month      user      \n",
      "April      Customer       34810\n",
      "           Subscriber    131865\n",
      "August     Customer       87334\n",
      "           Subscriber    250134\n",
      "December   Customer       10907\n",
      "           Subscriber     81302\n",
      "February   Customer        6774\n",
      "           Subscriber     73676\n",
      "January    Customer        4788\n",
      "           Subscriber     65104\n",
      "July       Customer       82105\n",
      "           Subscriber    234914\n",
      "June       Customer       73708\n",
      "           Subscriber    200401\n",
      "March      Customer       14522\n",
      "           Subscriber     87859\n",
      "May        Customer       51982\n",
      "           Subscriber    171059\n",
      "November   Customer       28447\n",
      "           Subscriber    162325\n",
      "October    Customer       56709\n",
      "           Subscriber    248806\n",
      "September  Customer       82191\n",
      "           Subscriber    281049\n",
      "dtype: int64\n"
     ]
    }
   ],
   "source": [
    "#grouping on monthly basis \n",
    "data3 = df.groupby([\"month\",\"user\"]).size()\n",
    "print(data3)"
   ]
  },
  {
   "cell_type": "code",
   "execution_count": 58,
   "metadata": {},
   "outputs": [
    {
     "data": {
      "image/png": "[encoded data removed]",
      "text/plain": [
       "<Figure size 432x288 with 1 Axes>"
      ]
     },
     "metadata": {
      "needs_background": "light"
     },
     "output_type": "display_data"
    }
   ],
   "source": [
    "#making the graphik\n",
    "# set width of bar\n",
    "barWidth = 0.25\n",
    "\n",
    "# set height of bar\n",
    "bars1= data3.loc[(data3.index.get_level_values('user') ==\"Subscriber\")].values\n",
    "bars2 = data3.loc[(data3.index.get_level_values('user') ==\"Customer\")].values\n",
    "\n",
    "\n",
    "# Set position of bar on X axis\n",
    "r1 = np.arange(len(bars1))\n",
    "r2 = [x + barWidth for x in r1]\n",
    "\n",
    "# Make the plot\n",
    "plt.bar(r1, bars1, color='orange', width=barWidth, edgecolor='white', label='Subscriber')\n",
    "plt.bar(r2, bars2, color='blue', width=barWidth, edgecolor='white', label='Customer')\n",
    "\n",
    "# Add xticks on the middle of the group bars\n",
    "plt.xlabel('group', fontweight='bold')\n",
    "plt.xticks([r + barWidth for r in range(len(bars1))], data3.index.get_level_values('month').unique())\n",
    "\n",
    "# Create legend & Show graphic\n",
    "plt.legend()\n",
    "plt.xlabel(\"Month\")\n",
    "plt.ylabel(\"Rents\")\n",
    "plt.show()"
   ]
  },
  {
   "cell_type": "code",
   "execution_count": 55,
   "metadata": {},
   "outputs": [],
   "source": [
    "#to check how many rents over the weeks on a year\n",
    "df['week_of_the_year'] = df['date_time'].dt.isocalendar().week"
   ]
  },
  {
   "cell_type": "code",
   "execution_count": 56,
   "metadata": {},
   "outputs": [
    {
     "name": "stdout",
     "output_type": "stream",
     "text": [
      "week_of_the_year  user      \n",
      "1                 Customer       1654\n",
      "                  Subscriber    13580\n",
      "2                 Customer        962\n",
      "                  Subscriber    16653\n",
      "3                 Customer        988\n",
      "                                ...  \n",
      "50                Subscriber    26312\n",
      "51                Customer       1750\n",
      "                  Subscriber    18452\n",
      "52                Customer       2939\n",
      "                  Subscriber    10612\n",
      "Length: 104, dtype: int64\n"
     ]
    }
   ],
   "source": [
    "#grouping weekly basis\n",
    "data4 = df.groupby([\"week_of_the_year\",\"user\"]).size()\n",
    "print(data4)"
   ]
  },
  {
   "cell_type": "code",
   "execution_count": 61,
   "metadata": {},
   "outputs": [
    {
     "data": {
      "image/png": "[encoded data removed]",
      "text/plain": [
       "<Figure size 432x288 with 1 Axes>"
      ]
     },
     "metadata": {
      "needs_background": "light"
     },
     "output_type": "display_data"
    },
    {
     "data": {
      "text/plain": [
       "<Figure size 720x432 with 0 Axes>"
      ]
     },
     "metadata": {},
     "output_type": "display_data"
    }
   ],
   "source": [
    "#making the graphik, i have a little bit of troubles, ill fix it later\n",
    "# set width of bar\n",
    "barWidth = 0.25\n",
    "\n",
    "# set height of bar\n",
    "bars1= data4.loc[(data4.index.get_level_values('user') ==\"Subscriber\")].values\n",
    "bars2 = data4.loc[(data4.index.get_level_values('user') ==\"Customer\")].values\n",
    "\n",
    "\n",
    "# Set position of bar on X axis\n",
    "r1 = np.arange(len(bars1))\n",
    "r2 = [x + barWidth for x in r1]\n",
    "\n",
    "# Make the plot\n",
    "plt.bar(r1, bars1, color='orange', width=barWidth, edgecolor='white', label='Subscriber')\n",
    "plt.bar(r2, bars2, color='blue', width=barWidth, edgecolor='white', label='Customer')\n",
    "\n",
    "# Add xticks on the middle of the group bars\n",
    "plt.xlabel('group', fontweight='bold')\n",
    "plt.xticks([r + barWidth for r in range(len(bars1))], data4.index.get_level_values('week_of_the_year').unique())\n",
    "\n",
    "# Create legend & Show graphic\n",
    "plt.legend()\n",
    "plt.xlabel(\"Week number\")\n",
    "plt.ylabel(\"Rents\")\n",
    "plt.figure(figsize=(10,6))\n",
    "plt.show()"
   ]
  },
  {
   "cell_type": "code",
   "execution_count": 19,
   "metadata": {},
   "outputs": [],
   "source": [
    "#new data frame to check the average drive time\n",
    "df2 = pd.DataFrame(Dataset['start_time'])\n",
    "df2['start_time'] = pd.to_datetime(df2.start_time)"
   ]
  },
  {
   "cell_type": "code",
   "execution_count": 23,
   "metadata": {},
   "outputs": [],
   "source": [
    "#we will need start time as well as end time to \n",
    "#calculate the drove time\n",
    "df2['end_time'] = pd.to_datetime(Dataset['end_time']) "
   ]
  },
  {
   "cell_type": "code",
   "execution_count": 25,
   "metadata": {},
   "outputs": [
    {
     "data": {
      "text/html": [
       "<div>\n",
       "<style scoped>\n",
       "    .dataframe tbody tr th:only-of-type {\n",
       "        vertical-align: middle;\n",
       "    }\n",
       "\n",
       "    .dataframe tbody tr th {\n",
       "        vertical-align: top;\n",
       "    }\n",
       "\n",
       "    .dataframe thead th {\n",
       "        text-align: right;\n",
       "    }\n",
       "</style>\n",
       "<table border=\"1\" class=\"dataframe\">\n",
       "  <thead>\n",
       "    <tr style=\"text-align: right;\">\n",
       "      <th></th>\n",
       "      <th>start_time</th>\n",
       "      <th>end_time</th>\n",
       "      <th>drive_time_in_date</th>\n",
       "    </tr>\n",
       "  </thead>\n",
       "  <tbody>\n",
       "    <tr>\n",
       "      <th>0</th>\n",
       "      <td>2019-01-01 00:09:13.798</td>\n",
       "      <td>2019-01-01 00:15:25.336</td>\n",
       "      <td>0 days 00:06:11.538000</td>\n",
       "    </tr>\n",
       "    <tr>\n",
       "      <th>1</th>\n",
       "      <td>2019-01-01 00:33:56.182</td>\n",
       "      <td>2019-01-01 00:38:20.880</td>\n",
       "      <td>0 days 00:04:24.698000</td>\n",
       "    </tr>\n",
       "    <tr>\n",
       "      <th>2</th>\n",
       "      <td>2019-01-01 00:41:54.600</td>\n",
       "      <td>2019-01-01 00:49:33.273</td>\n",
       "      <td>0 days 00:07:38.673000</td>\n",
       "    </tr>\n",
       "    <tr>\n",
       "      <th>3</th>\n",
       "      <td>2019-01-01 00:43:32.571</td>\n",
       "      <td>2019-01-01 00:49:37.426</td>\n",
       "      <td>0 days 00:06:04.855000</td>\n",
       "    </tr>\n",
       "    <tr>\n",
       "      <th>4</th>\n",
       "      <td>2019-01-01 00:49:56.464</td>\n",
       "      <td>2019-01-01 01:01:17.701</td>\n",
       "      <td>0 days 00:11:21.237000</td>\n",
       "    </tr>\n",
       "  </tbody>\n",
       "</table>\n",
       "</div>"
      ],
      "text/plain": [
       "               start_time                end_time     drive_time_in_date\n",
       "0 2019-01-01 00:09:13.798 2019-01-01 00:15:25.336 0 days 00:06:11.538000\n",
       "1 2019-01-01 00:33:56.182 2019-01-01 00:38:20.880 0 days 00:04:24.698000\n",
       "2 2019-01-01 00:41:54.600 2019-01-01 00:49:33.273 0 days 00:07:38.673000\n",
       "3 2019-01-01 00:43:32.571 2019-01-01 00:49:37.426 0 days 00:06:04.855000\n",
       "4 2019-01-01 00:49:56.464 2019-01-01 01:01:17.701 0 days 00:11:21.237000"
      ]
     },
     "execution_count": 25,
     "metadata": {},
     "output_type": "execute_result"
    }
   ],
   "source": [
    "#new column will be added witch the time on a date format\n",
    "df2['drive_time_in_date'] = df2['end_time']-df2['start_time']\n",
    "df2.head()"
   ]
  },
  {
   "cell_type": "code",
   "execution_count": 26,
   "metadata": {},
   "outputs": [],
   "source": [
    "#new column transforming each date format of the drive to seconds\n",
    "df2['time_in_seconds'] = df2['drive_time_in_date'].dt.total_seconds() "
   ]
  },
  {
   "cell_type": "code",
   "execution_count": 28,
   "metadata": {},
   "outputs": [],
   "source": [
    "#new column of drive time in second to minutes \n",
    "df2['time_in_minutes'] = df2['time_in_seconds']/60"
   ]
  },
  {
   "cell_type": "code",
   "execution_count": 32,
   "metadata": {},
   "outputs": [],
   "source": [
    "#we need now a new column with the rounded time\n",
    "df2['date_time'] = df2['start_time'].dt.round('60min')"
   ]
  },
  {
   "cell_type": "code",
   "execution_count": 76,
   "metadata": {},
   "outputs": [],
   "source": [
    "#setting a index to resample the data later \n",
    "df2.index = df2['date_time']"
   ]
  },
  {
   "cell_type": "code",
   "execution_count": 80,
   "metadata": {},
   "outputs": [
    {
     "name": "stdout",
     "output_type": "stream",
     "text": [
      "date_time\n",
      "2019-01-01 00:00:00     6.192300\n",
      "2019-01-01 01:00:00    17.870506\n",
      "2019-01-01 02:00:00    45.232271\n",
      "2019-01-01 03:00:00    16.173113\n",
      "2019-01-01 04:00:00     5.885225\n",
      "                         ...    \n",
      "2019-12-31 20:00:00    14.821820\n",
      "2019-12-31 21:00:00    22.375911\n",
      "2019-12-31 22:00:00    12.014348\n",
      "2019-12-31 23:00:00    19.632486\n",
      "2020-01-01 00:00:00    10.458193\n",
      "Freq: H, Name: time_in_minutes, Length: 8761, dtype: float64\n"
     ]
    }
   ],
   "source": [
    "#average drive time each hour of the year\n",
    "data5 = df2['time_in_minutes'].resample('H').mean() \n",
    "print(data5)"
   ]
  },
  {
   "cell_type": "code",
   "execution_count": 81,
   "metadata": {},
   "outputs": [
    {
     "name": "stdout",
     "output_type": "stream",
     "text": [
      "date_time\n",
      "2019-01-01    119.351301\n",
      "2019-01-02     19.934715\n",
      "2019-01-03     19.624509\n",
      "2019-01-04     28.762302\n",
      "2019-01-05     24.235375\n",
      "                 ...    \n",
      "2019-12-28     32.664813\n",
      "2019-12-29     23.731597\n",
      "2019-12-30     17.869999\n",
      "2019-12-31     15.321806\n",
      "2020-01-01     10.458193\n",
      "Freq: D, Name: time_in_minutes, Length: 366, dtype: float64\n"
     ]
    }
   ],
   "source": [
    "#average drive time in days of the year\n",
    "data6 = df2['time_in_minutes'].resample('D').mean() \n",
    "print(data6)"
   ]
  },
  {
   "cell_type": "code",
   "execution_count": 84,
   "metadata": {},
   "outputs": [
    {
     "name": "stdout",
     "output_type": "stream",
     "text": [
      "date_time\n",
      "2019-01-06    32.655959\n",
      "2019-01-13    15.755717\n",
      "2019-01-20    16.285875\n",
      "2019-01-27    20.481315\n",
      "2019-02-03    19.290990\n",
      "2019-02-10    26.740166\n",
      "2019-02-17    19.878078\n",
      "2019-02-24    16.342024\n",
      "2019-03-03    13.646912\n",
      "2019-03-10    21.387049\n",
      "2019-03-17    23.976632\n",
      "2019-03-24    29.209230\n",
      "2019-03-31    26.162830\n",
      "2019-04-07    27.331787\n",
      "2019-04-14    25.229417\n",
      "2019-04-21    24.893311\n",
      "2019-04-28    21.538608\n",
      "2019-05-05    22.812049\n",
      "2019-05-12    25.431296\n",
      "2019-05-19    29.160056\n",
      "2019-05-26    26.823359\n",
      "2019-06-02    32.354968\n",
      "2019-06-09    49.529583\n",
      "2019-06-16    58.760966\n",
      "2019-06-23    47.264606\n",
      "2019-06-30    65.830738\n",
      "2019-07-07    70.552351\n",
      "2019-07-14    64.223037\n",
      "2019-07-21    62.081734\n",
      "2019-07-28    52.649007\n",
      "2019-08-04    47.489740\n",
      "2019-08-11    64.633498\n",
      "2019-08-18    57.541957\n",
      "2019-08-25    67.910998\n",
      "2019-09-01    67.730390\n",
      "2019-09-08    24.812313\n",
      "2019-09-15    24.466989\n",
      "2019-09-22    24.091984\n",
      "2019-09-29    18.968226\n",
      "2019-10-06    22.486844\n",
      "2019-10-13    21.071174\n",
      "2019-10-20    21.442406\n",
      "2019-10-27    18.161143\n",
      "2019-11-03    19.898199\n",
      "2019-11-10    21.382124\n",
      "2019-11-17    18.788114\n",
      "2019-11-24    17.370643\n",
      "2019-12-01    18.604154\n",
      "2019-12-08    21.595494\n",
      "2019-12-15    22.177770\n",
      "2019-12-22    18.785512\n",
      "2019-12-29    29.296728\n",
      "2020-01-05    15.951898\n",
      "Freq: W-SUN, Name: time_in_minutes, dtype: float64\n"
     ]
    }
   ],
   "source": [
    "#average drive time in weeks\n",
    "data7 = df2['time_in_minutes'].resample('W').mean() \n",
    "print(data7)"
   ]
  },
  {
   "cell_type": "code",
   "execution_count": 87,
   "metadata": {},
   "outputs": [
    {
     "name": "stdout",
     "output_type": "stream",
     "text": [
      "date_time\n",
      "2019-01-31    19.631155\n",
      "2019-02-28    20.889710\n",
      "2019-03-31    25.014294\n",
      "2019-04-30    24.212048\n",
      "2019-05-31    26.335485\n",
      "2019-06-30    55.159613\n",
      "2019-07-31    58.621172\n",
      "2019-08-31    64.462992\n",
      "2019-09-30    23.444382\n",
      "2019-10-31    20.247282\n",
      "2019-11-30    20.438698\n",
      "2019-12-31    22.013372\n",
      "2020-01-31    10.458193\n",
      "Freq: M, Name: time_in_minutes, dtype: float64\n"
     ]
    }
   ],
   "source": [
    "#average drive time in months\n",
    "data8 = df2['time_in_minutes'].resample('M').mean() \n",
    "print(data8)"
   ]
  }
 ],
 "metadata": {
  "kernelspec": {
   "display_name": "Python 3",
   "language": "python",
   "name": "python3"
  },
  "language_info": {
   "codemirror_mode": {
    "name": "ipython",
    "version": 3
   },
   "file_extension": ".py",
   "mimetype": "text/x-python",
   "name": "python",
   "nbconvert_exporter": "python",
   "pygments_lexer": "ipython3",
   "version": "3.8.5"
  }
 },
 "nbformat": 4,
 "nbformat_minor": 4
}
