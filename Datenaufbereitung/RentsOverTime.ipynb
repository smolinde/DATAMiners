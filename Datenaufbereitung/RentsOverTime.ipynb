{
 "cells": [
  {
   "cell_type": "code",
   "execution_count": 1,
   "metadata": {},
   "outputs": [],
   "source": [
    "import pandas as pd\n",
    "import numpy as np\n",
    "Datensatz = pd.read_csv(\"boston_2019.csv\", sep=\",\")"
   ]
  },
  {
   "cell_type": "code",
   "execution_count": 2,
   "metadata": {},
   "outputs": [
    {
     "data": {
      "text/html": [
       "<div>\n",
       "<style scoped>\n",
       "    .dataframe tbody tr th:only-of-type {\n",
       "        vertical-align: middle;\n",
       "    }\n",
       "\n",
       "    .dataframe tbody tr th {\n",
       "        vertical-align: top;\n",
       "    }\n",
       "\n",
       "    .dataframe thead th {\n",
       "        text-align: right;\n",
       "    }\n",
       "</style>\n",
       "<table border=\"1\" class=\"dataframe\">\n",
       "  <thead>\n",
       "    <tr style=\"text-align: right;\">\n",
       "      <th></th>\n",
       "      <th>start_time</th>\n",
       "      <th>end_time</th>\n",
       "      <th>start_station_id</th>\n",
       "      <th>end_station_id</th>\n",
       "      <th>start_station_name</th>\n",
       "      <th>end_station_name</th>\n",
       "      <th>bike_id</th>\n",
       "      <th>user_type</th>\n",
       "    </tr>\n",
       "  </thead>\n",
       "  <tbody>\n",
       "    <tr>\n",
       "      <th>0</th>\n",
       "      <td>2019-01-01 00:09:13.7980</td>\n",
       "      <td>2019-01-01 00:15:25.3360</td>\n",
       "      <td>80</td>\n",
       "      <td>179</td>\n",
       "      <td>MIT Stata Center at Vassar St / Main St</td>\n",
       "      <td>MIT Vassar St</td>\n",
       "      <td>3689</td>\n",
       "      <td>Subscriber</td>\n",
       "    </tr>\n",
       "    <tr>\n",
       "      <th>1</th>\n",
       "      <td>2019-01-01 00:33:56.1820</td>\n",
       "      <td>2019-01-01 00:38:20.8800</td>\n",
       "      <td>117</td>\n",
       "      <td>189</td>\n",
       "      <td>Binney St / Sixth St</td>\n",
       "      <td>Kendall T</td>\n",
       "      <td>4142</td>\n",
       "      <td>Subscriber</td>\n",
       "    </tr>\n",
       "    <tr>\n",
       "      <th>2</th>\n",
       "      <td>2019-01-01 00:41:54.6000</td>\n",
       "      <td>2019-01-01 00:49:33.2730</td>\n",
       "      <td>68</td>\n",
       "      <td>96</td>\n",
       "      <td>Central Square at Mass Ave / Essex St</td>\n",
       "      <td>Cambridge Main Library at Broadway / Trowbridg...</td>\n",
       "      <td>1628</td>\n",
       "      <td>Subscriber</td>\n",
       "    </tr>\n",
       "    <tr>\n",
       "      <th>3</th>\n",
       "      <td>2019-01-01 00:43:32.5710</td>\n",
       "      <td>2019-01-01 00:49:37.4260</td>\n",
       "      <td>89</td>\n",
       "      <td>334</td>\n",
       "      <td>Harvard Law School at Mass Ave / Jarvis St</td>\n",
       "      <td>Mass Ave at Hadley/Walden</td>\n",
       "      <td>2969</td>\n",
       "      <td>Subscriber</td>\n",
       "    </tr>\n",
       "    <tr>\n",
       "      <th>4</th>\n",
       "      <td>2019-01-01 00:49:56.4640</td>\n",
       "      <td>2019-01-01 01:01:17.7010</td>\n",
       "      <td>73</td>\n",
       "      <td>367</td>\n",
       "      <td>Harvard Square at Brattle St / Eliot St</td>\n",
       "      <td>Vassal Lane at Tobin/VLUS</td>\n",
       "      <td>3469</td>\n",
       "      <td>Subscriber</td>\n",
       "    </tr>\n",
       "  </tbody>\n",
       "</table>\n",
       "</div>"
      ],
      "text/plain": [
       "                 start_time                  end_time  start_station_id  \\\n",
       "0  2019-01-01 00:09:13.7980  2019-01-01 00:15:25.3360                80   \n",
       "1  2019-01-01 00:33:56.1820  2019-01-01 00:38:20.8800               117   \n",
       "2  2019-01-01 00:41:54.6000  2019-01-01 00:49:33.2730                68   \n",
       "3  2019-01-01 00:43:32.5710  2019-01-01 00:49:37.4260                89   \n",
       "4  2019-01-01 00:49:56.4640  2019-01-01 01:01:17.7010                73   \n",
       "\n",
       "   end_station_id                          start_station_name  \\\n",
       "0             179     MIT Stata Center at Vassar St / Main St   \n",
       "1             189                        Binney St / Sixth St   \n",
       "2              96       Central Square at Mass Ave / Essex St   \n",
       "3             334  Harvard Law School at Mass Ave / Jarvis St   \n",
       "4             367     Harvard Square at Brattle St / Eliot St   \n",
       "\n",
       "                                    end_station_name  bike_id   user_type  \n",
       "0                                      MIT Vassar St     3689  Subscriber  \n",
       "1                                          Kendall T     4142  Subscriber  \n",
       "2  Cambridge Main Library at Broadway / Trowbridg...     1628  Subscriber  \n",
       "3                          Mass Ave at Hadley/Walden     2969  Subscriber  \n",
       "4                          Vassal Lane at Tobin/VLUS     3469  Subscriber  "
      ]
     },
     "execution_count": 2,
     "metadata": {},
     "output_type": "execute_result"
    }
   ],
   "source": [
    "Datensatz.head(5)"
   ]
  },
  {
   "cell_type": "code",
   "execution_count": 3,
   "metadata": {},
   "outputs": [
    {
     "name": "stdout",
     "output_type": "stream",
     "text": [
      "                       start_time\n",
      "0        2019-01-01 00:09:13.7980\n",
      "1        2019-01-01 00:33:56.1820\n",
      "2        2019-01-01 00:41:54.6000\n",
      "3        2019-01-01 00:43:32.5710\n",
      "4        2019-01-01 00:49:56.4640\n",
      "...                           ...\n",
      "2522766  2019-12-31 23:52:10.7280\n",
      "2522767  2019-12-31 23:52:14.9270\n",
      "2522768  2019-12-31 23:54:58.3910\n",
      "2522769  2019-12-31 23:55:54.5440\n",
      "2522770  2019-12-31 23:57:49.6720\n",
      "\n",
      "[2522771 rows x 1 columns]\n"
     ]
    }
   ],
   "source": [
    "df = pd.DataFrame(Datensatz[\"start_time\"])\n",
    "print(df)"
   ]
  },
  {
   "cell_type": "code",
   "execution_count": null,
   "metadata": {},
   "outputs": [],
   "source": [
    "#rohdaten = df.groupby(by=\"start_time\").start_time.count()\n",
    "times = pd.to_datetime(df.start_time)\n",
    "result = df.groupby([times.dt.hour]).start_time.sum()"
   ]
  },
  {
   "cell_type": "code",
   "execution_count": null,
   "metadata": {},
   "outputs": [],
   "source": [
    "print(result)"
   ]
  },
  {
   "cell_type": "code",
   "execution_count": null,
   "metadata": {},
   "outputs": [],
   "source": [
    "print(1)"
   ]
  },
  {
   "cell_type": "code",
   "execution_count": null,
   "metadata": {},
   "outputs": [],
   "source": []
  }
 ],
 "metadata": {
  "kernelspec": {
   "display_name": "Python 3",
   "language": "python",
   "name": "python3"
  },
  "language_info": {
   "codemirror_mode": {
    "name": "ipython",
    "version": 3
   },
   "file_extension": ".py",
   "mimetype": "text/x-python",
   "name": "python",
   "nbconvert_exporter": "python",
   "pygments_lexer": "ipython3",
   "version": "3.7.3"
  }
 },
 "nbformat": 4,
 "nbformat_minor": 2
}
