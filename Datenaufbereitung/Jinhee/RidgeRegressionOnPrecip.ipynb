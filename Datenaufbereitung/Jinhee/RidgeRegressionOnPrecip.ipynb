{
 "cells": [
  {
   "cell_type": "markdown",
   "metadata": {},
   "source": [
    "## Ridge Regression On Precip ##\n",
    "\n",
    "The following script contains two main parts; The first creates a clean and rescaled dataset with rents per hour left-joined on the available temperatures per hour for 2019. The second part creates a ridge model and visualize the regression/prediction.\n"
   ]
  },
  {
   "cell_type": "code",
   "execution_count": 97,
   "metadata": {},
   "outputs": [],
   "source": [
    "# Import required libraries\n",
    "import pandas as pd\n",
    "import numpy as np\n",
    "import pandas as pd\n",
    "import matplotlib.pyplot as plt\n",
    "import seaborn as sns\n",
    "from sklearn.linear_model import Ridge\n",
    "from sklearn.model_selection import GridSearchCV\n",
    "from sklearn import metrics\n",
    "from sklearn.model_selection import train_test_split\n",
    "\n",
    "# Import data from previous results and create DataFrame objects\n",
    "Weather = pd.read_csv('weather_hourly_boston.csv', sep=',')\n",
    "Rents = pd.read_csv('KPI_total_rents_per_hour.csv', sep=',')\n",
    "df_rents = pd.DataFrame(Rents)\n",
    "df_weather = pd.DataFrame(Weather)\n",
    "\n",
    "# Clean the weather dataset and get data for 2019 only\n",
    "df_weather = df_weather.dropna()\n",
    "begin_2019 = pd.to_datetime('2019-01-01 00:00')\n",
    "end_2019 = pd.to_datetime('2019-12-31 23:00')\n",
    "times = pd.to_datetime(df_weather.date_time)\n",
    "df_weather_2019 = df_weather.loc[(times.dt.year >= 2019) & (times.dt.year <= 2019)]\n",
    "df_weather_2019 = df_weather_2019.reset_index()\n",
    "df_weather_2019 = df_weather_2019.set_index('date_time')\n",
    "\n",
    "# Create the combined dataset. Do a left-join on weather dataset timestamps.\n",
    "df_weather_2019.index = df_weather_2019.index.rename('hour')\n",
    "df_weather_and_rents = pd.merge(df_weather_2019,df_rents,on='hour',how='left')\n",
    "df_weather_and_rents = df_weather_and_rents.drop_duplicates(subset=['hour'], keep='first')\n",
    "df_weather_and_rents = df_weather_and_rents.dropna()\n",
    "df_weather_and_rents = df_weather_and_rents.sort_values(by=['hour'])\n",
    "df_weather_and_rents = df_weather_and_rents.drop('index', axis='columns')\n",
    "df_weather_and_rents['avg_temp'] = (df_weather_and_rents['max_temp'] + df_weather_and_rents['min_temp'])/2\n",
    "df_weather_and_rents = df_weather_and_rents.drop(['min_temp','max_temp'], axis='columns')\n"
   ]
  },
  {
   "cell_type": "markdown",
   "metadata": {},
   "source": [
    "The next little diagram shows that we don't need to take two separate regressions for temperatures with and without precipitation. The resulting difference would be insignificant."
   ]
  },
  {
   "cell_type": "code",
   "execution_count": 98,
   "metadata": {},
   "outputs": [
    {
     "name": "stdout",
     "output_type": "stream",
     "text": [
      "<class 'pandas.core.frame.DataFrame'>\n",
      "Int64Index: 2447 entries, 8049 to 7744\n",
      "Data columns (total 4 columns):\n",
      " #   Column       Non-Null Count  Dtype   \n",
      "---  ------       --------------  -----   \n",
      " 0   hour         2447 non-null   category\n",
      " 1   precip       2447 non-null   category\n",
      " 2   rents_count  2447 non-null   float64 \n",
      " 3   avg_temp     2447 non-null   category\n",
      "dtypes: category(3), float64(1)\n",
      "memory usage: 377.6 KB\n",
      "<class 'pandas.core.frame.DataFrame'>\n",
      "Int64Index: 2447 entries, 8049 to 7744\n",
      "Data columns (total 1 columns):\n",
      " #   Column  Non-Null Count  Dtype   \n",
      "---  ------  --------------  -----   \n",
      " 0   precip  2447 non-null   category\n",
      "dtypes: category(1)\n",
      "memory usage: 21.6 KB\n"
     ]
    }
   ],
   "source": [
    "#Change categorical data type for memory reduction\n",
    "categorical_features = ['hour', 'precip', 'avg_temp']\n",
    "\n",
    "for feature in categorical_features:\n",
    "    df_weather_and_rents[feature] = df_weather_and_rents[feature].astype(\"category\")\n",
    "\n",
    "#Separate train and test data. \n",
    "train, test = train_test_split(df_weather_and_rents, test_size = 0.7, random_state = 42)\n",
    "train.info()\n",
    "\n",
    "#Assign train target value(y)\n",
    "y = train['rents_count']\n",
    "\n",
    "#Drop useless features\n",
    "drop_features = ['hour', 'rents_count', 'avg_temp']\n",
    "\n",
    "X_train = train.drop(drop_features, axis=1)\n",
    "X_test = test.drop(drop_features, axis=1)\n",
    "X_train.info()\n",
    "\n",
    "\n"
   ]
  },
  {
   "cell_type": "code",
   "execution_count": 100,
   "metadata": {},
   "outputs": [
    {
     "data": {
      "image/png": "[encoded data removed]",
      "text/plain": [
       "<Figure size 576x432 with 1 Axes>"
      ]
     },
     "metadata": {
      "needs_background": "light"
     },
     "output_type": "display_data"
    }
   ],
   "source": [
    "# Create little visualization\n",
    "plt.figure(figsize = (8,6))\n",
    "plt.xlabel(\"precip\")\n",
    "plt.ylabel(\"counts\")\n",
    "plt.title('visualization of train and test dataset', fontsize=16)\n",
    "plt.scatter(X_train, y, color='yellow', label='train')\n",
    "plt.scatter(X_test, test['rents_count'], color='blue', label='test')\n",
    "plt.legend()\n",
    "\n",
    "plt.show()"
   ]
  },
  {
   "cell_type": "code",
   "execution_count": 101,
   "metadata": {},
   "outputs": [],
   "source": [
    "#Evaluation score(RMSLE) function\n",
    "\n",
    "def rmsle(y_true, y_pred, convertExp=True):\n",
    "    # Apply exponential transformation function\n",
    "    if convertExp:\n",
    "        y_true = np.exp(y_true)\n",
    "        y_pred = np.exp(y_pred)\n",
    "        \n",
    "    # Convert missing value to zero after log transformation\n",
    "    log_true = np.nan_to_num(np.array([np.log(y+1) for y in y_true]))\n",
    "    log_pred = np.nan_to_num(np.array([np.log(y+1) for y in y_pred]))\n",
    "    \n",
    "    # Compute RMSLE\n",
    "    output = np.sqrt(np.mean((log_true - log_pred)**2))\n",
    "    return output\n"
   ]
  },
  {
   "cell_type": "code",
   "execution_count": 102,
   "metadata": {},
   "outputs": [
    {
     "name": "stdout",
     "output_type": "stream",
     "text": [
      "Best Parameter: {'alpha': 4, 'max_iter': 3000}\n",
      "Ridge Regression RMSLE: 1.475280578365386\n"
     ]
    }
   ],
   "source": [
    "# Step 1: Create Model\n",
    "ridge_model = Ridge()\n",
    "\n",
    "# Step 2-1 : Create GridSearchCV Object\n",
    "# Hyper-parameter List\n",
    "ridge_params = {'max_iter':[3000], 'alpha':[0.1, 1, 2, 3, 4, 10, 30, 100, 200, 300, 400, 800, 900, 1000]}\n",
    "# Evaluate Function for Cross-Validation (RMSLE score)\n",
    "rmsle_scorer = metrics.make_scorer(rmsle, greater_is_better=False) \n",
    "# Create GridSearchCV Object (with Ridge)\n",
    "gridsearch_ridge_model = GridSearchCV(estimator=ridge_model,\n",
    "                                      param_grid=ridge_params,\n",
    "                                      scoring=rmsle_scorer,\n",
    "                                      cv=5)\n",
    "\n",
    "# Step 2-2 : Perform Grid Search\n",
    "log_y = np.log1p(y) # Log Transformation of Target Value y\n",
    "gridsearch_ridge_model.fit(X_train, log_y) # Train (Grid Search)\n",
    "\n",
    "print('Best Parameter:', gridsearch_ridge_model.best_params_)\n",
    "\n",
    "# Step 3 : Predict\n",
    "preds = gridsearch_ridge_model.best_estimator_.predict(X_train)\n",
    "\n",
    "# Step 4 : Evaluate\n",
    "print('Ridge Regression RMSLE:', rmsle(log_y, preds, True))"
   ]
  },
  {
   "cell_type": "code",
   "execution_count": 96,
   "metadata": {},
   "outputs": [
    {
     "data": {
      "image/png": "[encoded data removed]",
      "text/plain": [
       "<Figure size 576x432 with 1 Axes>"
      ]
     },
     "metadata": {
      "needs_background": "light"
     },
     "output_type": "display_data"
    }
   ],
   "source": [
    "plt.figure(figsize = (8,6))\n",
    "plt.scatter(X_train, train['rents_count'], marker=\"x\")\n",
    "plt.plot(X_train, np.log1p(preds), color = 'red')\n",
    "plt.xlabel(\"precip\")\n",
    "plt.ylabel(\"count\")\n",
    "plt.show()"
   ]
  },
  {
   "cell_type": "code",
   "execution_count": null,
   "metadata": {},
   "outputs": [],
   "source": []
  }
 ],
 "metadata": {
  "kernelspec": {
   "display_name": "Python 3",
   "language": "python",
   "name": "python3"
  },
  "language_info": {
   "codemirror_mode": {
    "name": "ipython",
    "version": 3
   },
   "file_extension": ".py",
   "mimetype": "text/x-python",
   "name": "python",
   "nbconvert_exporter": "python",
   "pygments_lexer": "ipython3",
   "version": "3.8.5"
  }
 },
 "nbformat": 4,
 "nbformat_minor": 4
}
