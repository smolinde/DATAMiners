{
 "cells": [
  {
   "cell_type": "markdown",
   "metadata": {},
   "source": [
    "## User Check ##\n",
    "\n",
    "The followig scripts checks if all 'user_type' tuples in Data are correct \n",
    "If the script prints '0' in the end, it is correct.\n",
    "If not it prints the first problematic tuple."
   ]
  },
  {
   "cell_type": "code",
   "execution_count": 2,
   "metadata": {},
   "outputs": [],
   "source": [
    "import pandas as pd\n",
    "import numpy as np\n",
    "Datensatz = pd.read_csv(\"boston_2019.csv\", sep=\",\")"
   ]
  },
  {
   "cell_type": "code",
   "execution_count": 3,
   "metadata": {},
   "outputs": [
    {
     "name": "stdout",
     "output_type": "stream",
     "text": [
      "0\n"
     ]
    }
   ],
   "source": [
    "#Creat DateFrame\n",
    "userv = Datensatz[\"user_type\"]\n",
    "\n",
    "#initialize variabel \"user_err\"\n",
    "user_err = 0\n",
    "\n",
    "#Iterate over all rows\n",
    "#increase the value of \"user_err\" by one if \"userv\" contains invalid value\n",
    "# print invalid values of \"userv\"\n",
    "for i in userv :\n",
    "    if i != \"Customer\" and i != \"Subscriber\" :\n",
    "        user_err = user_err + 1\n",
    "        print(userv)\n",
    "#print the result of the script. If it prints 0, the \"userv\" is valid         \n",
    "print(user_err)"
   ]
  }
 ],
 "metadata": {
  "kernelspec": {
   "display_name": "Python 3",
   "language": "python",
   "name": "python3"
  },
  "language_info": {
   "codemirror_mode": {
    "name": "ipython",
    "version": 3
   },
   "file_extension": ".py",
   "mimetype": "text/x-python",
   "name": "python",
   "nbconvert_exporter": "python",
   "pygments_lexer": "ipython3",
   "version": "3.8.5"
  }
 },
 "nbformat": 4,
 "nbformat_minor": 4
}
