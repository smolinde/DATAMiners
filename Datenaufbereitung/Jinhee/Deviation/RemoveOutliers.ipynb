{
 "cells": [
  {
   "cell_type": "markdown",
   "metadata": {},
   "source": [
    "# Remove Outliers #\n",
    "\n",
    "The following script reads the data which is created by 'Devation Visualisation' and removes outliers that are out of the range of 3 standard deviation.\n"
   ]
  },
  {
   "cell_type": "code",
   "execution_count": 1,
   "metadata": {},
   "outputs": [],
   "source": [
    "#import required libraries\n",
    "import pandas as pd\n",
    "import numpy as np"
   ]
  },
  {
   "cell_type": "code",
   "execution_count": 2,
   "metadata": {},
   "outputs": [],
   "source": [
    "#prepare the data\n",
    "Deviation = pd.read_csv('Deviation_By_Date_And_Hour.csv')\n"
   ]
  },
  {
   "cell_type": "code",
   "execution_count": 3,
   "metadata": {},
   "outputs": [
    {
     "name": "stdout",
     "output_type": "stream",
     "text": [
      "Shape Of The Before Outliers:  (8700, 7)\n",
      "Shape Of The After Outliers:  (8536, 7)\n"
     ]
    }
   ],
   "source": [
    "#remove the outliers\n",
    "#if the number of the tuples are less after the removal, the removal is successful\n",
    "DeviationNoOutliers = Deviation[np.abs(Deviation[\"count\"]-Deviation[\"count\"].mean())<=(3*Deviation[\"count\"].std())] \n",
    "print (\"Shape Of The Before Outliers: \",Deviation.shape)\n",
    "print (\"Shape Of The After Outliers: \",DeviationNoOutliers.shape)\n",
    "\n"
   ]
  },
  {
   "cell_type": "code",
   "execution_count": 5,
   "metadata": {},
   "outputs": [],
   "source": [
    "DeviationNoOutliers.to_csv('Deviation_Without_Outliers.csv')"
   ]
  },
  {
   "cell_type": "code",
   "execution_count": null,
   "metadata": {},
   "outputs": [],
   "source": []
  }
 ],
 "metadata": {
  "kernelspec": {
   "display_name": "Python 3",
   "language": "python",
   "name": "python3"
  },
  "language_info": {
   "codemirror_mode": {
    "name": "ipython",
    "version": 3
   },
   "file_extension": ".py",
   "mimetype": "text/x-python",
   "name": "python",
   "nbconvert_exporter": "python",
   "pygments_lexer": "ipython3",
   "version": "3.8.5"
  }
 },
 "nbformat": 4,
 "nbformat_minor": 4
}
