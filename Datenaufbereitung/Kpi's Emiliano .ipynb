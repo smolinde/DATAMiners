{
 "cells": [
  {
   "cell_type": "code",
   "execution_count": 1,
   "metadata": {},
   "outputs": [],
   "source": [
    "import pandas as pd \n",
    "import numpy as np \n",
    "import matplotlib as mpl\n",
    "import matplotlib.pyplot as plt\n",
    "import matplotlib.gridspec as gridspec\n",
    "from datetime import date, time, datetime, timedelta "
   ]
  },
  {
   "cell_type": "code",
   "execution_count": 2,
   "metadata": {},
   "outputs": [],
   "source": [
    "Dataset = pd.read_csv(\"boston_2019.csv\", sep=',')"
   ]
  },
  {
   "cell_type": "code",
   "execution_count": 3,
   "metadata": {},
   "outputs": [
    {
     "data": {
      "text/html": [
       "<div>\n",
       "<style scoped>\n",
       "    .dataframe tbody tr th:only-of-type {\n",
       "        vertical-align: middle;\n",
       "    }\n",
       "\n",
       "    .dataframe tbody tr th {\n",
       "        vertical-align: top;\n",
       "    }\n",
       "\n",
       "    .dataframe thead th {\n",
       "        text-align: right;\n",
       "    }\n",
       "</style>\n",
       "<table border=\"1\" class=\"dataframe\">\n",
       "  <thead>\n",
       "    <tr style=\"text-align: right;\">\n",
       "      <th></th>\n",
       "      <th>date_time</th>\n",
       "    </tr>\n",
       "  </thead>\n",
       "  <tbody>\n",
       "    <tr>\n",
       "      <th>0</th>\n",
       "      <td>2019-01-01 00:00:00</td>\n",
       "    </tr>\n",
       "    <tr>\n",
       "      <th>1</th>\n",
       "      <td>2019-01-01 01:00:00</td>\n",
       "    </tr>\n",
       "    <tr>\n",
       "      <th>2</th>\n",
       "      <td>2019-01-01 01:00:00</td>\n",
       "    </tr>\n",
       "    <tr>\n",
       "      <th>3</th>\n",
       "      <td>2019-01-01 01:00:00</td>\n",
       "    </tr>\n",
       "    <tr>\n",
       "      <th>4</th>\n",
       "      <td>2019-01-01 01:00:00</td>\n",
       "    </tr>\n",
       "  </tbody>\n",
       "</table>\n",
       "</div>"
      ],
      "text/plain": [
       "            date_time\n",
       "0 2019-01-01 00:00:00\n",
       "1 2019-01-01 01:00:00\n",
       "2 2019-01-01 01:00:00\n",
       "3 2019-01-01 01:00:00\n",
       "4 2019-01-01 01:00:00"
      ]
     },
     "execution_count": 3,
     "metadata": {},
     "output_type": "execute_result"
    }
   ],
   "source": [
    "#first we will reound the time for each hour to have a better sight \n",
    "#rounding time \n",
    "df = pd.DataFrame(Dataset['start_time'])\n",
    "df['start_time'] = pd.to_datetime(df.start_time)\n",
    "\n",
    "# round start_time values to next nearest hour\n",
    "# name it datetime so that it can be merged with the dates of the weather dataset\n",
    "df['date_time'] = df['start_time'].dt.round('60min')\n",
    "df = df.drop('start_time', axis='columns')\n",
    "df.head()"
   ]
  },
  {
   "cell_type": "code",
   "execution_count": 4,
   "metadata": {},
   "outputs": [
    {
     "data": {
      "text/html": [
       "<div>\n",
       "<style scoped>\n",
       "    .dataframe tbody tr th:only-of-type {\n",
       "        vertical-align: middle;\n",
       "    }\n",
       "\n",
       "    .dataframe tbody tr th {\n",
       "        vertical-align: top;\n",
       "    }\n",
       "\n",
       "    .dataframe thead th {\n",
       "        text-align: right;\n",
       "    }\n",
       "</style>\n",
       "<table border=\"1\" class=\"dataframe\">\n",
       "  <thead>\n",
       "    <tr style=\"text-align: right;\">\n",
       "      <th></th>\n",
       "      <th>date_time</th>\n",
       "      <th>user</th>\n",
       "    </tr>\n",
       "  </thead>\n",
       "  <tbody>\n",
       "    <tr>\n",
       "      <th>0</th>\n",
       "      <td>2019-01-01 00:00:00</td>\n",
       "      <td>Subscriber</td>\n",
       "    </tr>\n",
       "    <tr>\n",
       "      <th>1</th>\n",
       "      <td>2019-01-01 01:00:00</td>\n",
       "      <td>Subscriber</td>\n",
       "    </tr>\n",
       "    <tr>\n",
       "      <th>2</th>\n",
       "      <td>2019-01-01 01:00:00</td>\n",
       "      <td>Subscriber</td>\n",
       "    </tr>\n",
       "    <tr>\n",
       "      <th>3</th>\n",
       "      <td>2019-01-01 01:00:00</td>\n",
       "      <td>Subscriber</td>\n",
       "    </tr>\n",
       "    <tr>\n",
       "      <th>4</th>\n",
       "      <td>2019-01-01 01:00:00</td>\n",
       "      <td>Subscriber</td>\n",
       "    </tr>\n",
       "  </tbody>\n",
       "</table>\n",
       "</div>"
      ],
      "text/plain": [
       "            date_time        user\n",
       "0 2019-01-01 00:00:00  Subscriber\n",
       "1 2019-01-01 01:00:00  Subscriber\n",
       "2 2019-01-01 01:00:00  Subscriber\n",
       "3 2019-01-01 01:00:00  Subscriber\n",
       "4 2019-01-01 01:00:00  Subscriber"
      ]
     },
     "execution_count": 4,
     "metadata": {},
     "output_type": "execute_result"
    }
   ],
   "source": [
    "#we will ad user column to the dataframe\n",
    "df['user'] = Dataset['user_type']\n",
    "df.head()"
   ]
  },
  {
   "cell_type": "code",
   "execution_count": 5,
   "metadata": {},
   "outputs": [],
   "source": [
    "df['hour'] = df['date_time'].dt.hour"
   ]
  },
  {
   "cell_type": "code",
   "execution_count": 6,
   "metadata": {},
   "outputs": [],
   "source": [
    "#we will group each hour how many subscribers or customers rent a bike \n",
    "data1 = df.groupby([\"hour\",\"user\"]).size()"
   ]
  },
  {
   "cell_type": "code",
   "execution_count": 7,
   "metadata": {},
   "outputs": [
    {
     "data": {
      "image/png": "[encoded data removed]",
      "text/plain": [
       "<Figure size 432x288 with 1 Axes>"
      ]
     },
     "metadata": {
      "needs_background": "light"
     },
     "output_type": "display_data"
    }
   ],
   "source": [
    "#making the graphik\n",
    "# set width of bar\n",
    "barWidth = 0.25\n",
    "\n",
    "# set height of bar\n",
    "bars1= data1.loc[(data1.index.get_level_values('user') ==\"Subscriber\")].values\n",
    "bars2 = data1.loc[(data1.index.get_level_values('user') ==\"Customer\")].values\n",
    "\n",
    "\n",
    "# Set position of bar on X axis\n",
    "r1 = np.arange(len(bars1))\n",
    "r2 = [x + barWidth for x in r1]\n",
    "\n",
    "# Make the plot\n",
    "plt.bar(r1, bars1, color='orange', width=barWidth, edgecolor='white', label='Subscriber')\n",
    "plt.bar(r2, bars2, color='blue', width=barWidth, edgecolor='white', label='Customer')\n",
    "\n",
    "# Add xticks on the middle of the group bars\n",
    "plt.xlabel('group', fontweight='bold')\n",
    "plt.xticks([r + barWidth for r in range(len(bars1))], data1.index.get_level_values('hour').unique())\n",
    "\n",
    "# Create legend & Show graphic\n",
    "plt.legend()\n",
    "plt.xlabel(\"Hour\")\n",
    "plt.ylabel(\"Rents\")\n",
    "plt.show()"
   ]
  },
  {
   "cell_type": "code",
   "execution_count": 8,
   "metadata": {},
   "outputs": [],
   "source": [
    "#we will add to the data frame a new column calle day to see \n",
    "#on how many bikes on each day of the week were rented (not over the year) \n",
    "df['day'] = df['date_time'].dt.day_name()"
   ]
  },
  {
   "cell_type": "code",
   "execution_count": 9,
   "metadata": {},
   "outputs": [],
   "source": [
    "df['day'] = pd.Categorical(df['day'], categories = ['Monday','Tuesday','Wednesday','Thursday','Friday','Saturday','Sunday'],ordered = True)"
   ]
  },
  {
   "cell_type": "code",
   "execution_count": 10,
   "metadata": {
    "scrolled": true
   },
   "outputs": [
    {
     "name": "stdout",
     "output_type": "stream",
     "text": [
      "day        user      \n",
      "Monday     Customer       62413\n",
      "           Subscriber    310352\n",
      "Tuesday    Customer       54829\n",
      "           Subscriber    329319\n",
      "Wednesday  Customer       55512\n",
      "           Subscriber    333930\n",
      "Thursday   Customer       61860\n",
      "           Subscriber    324124\n",
      "Friday     Customer       72876\n",
      "           Subscriber    312040\n",
      "Saturday   Customer      121274\n",
      "           Subscriber    197606\n",
      "Sunday     Customer      105513\n",
      "           Subscriber    181123\n",
      "dtype: int64\n"
     ]
    }
   ],
   "source": [
    "#we will group this as efore but instead of hourly basis, daily basis\n",
    "data2 = df.groupby([\"day\",\"user\"]).size()\n",
    "print(data2)"
   ]
  },
  {
   "cell_type": "code",
   "execution_count": 11,
   "metadata": {},
   "outputs": [
    {
     "data": {
      "image/png": "[encoded data removed]",
      "text/plain": [
       "<Figure size 432x288 with 1 Axes>"
      ]
     },
     "metadata": {
      "needs_background": "light"
     },
     "output_type": "display_data"
    }
   ],
   "source": [
    "#make the graphik\n",
    "# set width of bar\n",
    "barWidth = 0.25\n",
    "\n",
    "# set height of bar\n",
    "bars1 = data2.loc[(data2.index.get_level_values('user') ==\"Subscriber\")].values\n",
    "bars2 = data2.loc[(data2.index.get_level_values('user') ==\"Customer\")].values\n",
    "\n",
    "\n",
    "# Set position of bar on X axis\n",
    "r1 = np.arange(len(bars1))\n",
    "r2 = [x + barWidth for x in r1]\n",
    "\n",
    "# Make the plot\n",
    "plt.bar(r1, bars1, color='orange', width=barWidth, edgecolor='white', label='Subscriber')\n",
    "plt.bar(r2, bars2, color='blue', width=barWidth, edgecolor='white', label='Customer')\n",
    "\n",
    "# Add xticks on the middle of the group bars\n",
    "plt.xlabel('group', fontweight='bold')\n",
    "plt.xticks([r + barWidth for r in range(len(bars1))], data2.index.get_level_values('day').unique())\n",
    "\n",
    "# Create legend & Show graphic\n",
    "plt.legend()\n",
    "plt.xlabel(\"Days over the year\")\n",
    "plt.ylabel(\"Rents\")\n",
    "plt.show()"
   ]
  },
  {
   "cell_type": "code",
   "execution_count": 12,
   "metadata": {},
   "outputs": [],
   "source": [
    "#add month column to see te month of the row\n",
    "df['month'] = df['date_time'].dt.month_name()\n",
    "#to make the months in order\n",
    "df['month'] = pd.Categorical(df['month'], categories = ['January','February','March','April','May','June','July','August','September','October','November','December'],ordered = True)"
   ]
  },
  {
   "cell_type": "code",
   "execution_count": 13,
   "metadata": {
    "scrolled": true
   },
   "outputs": [
    {
     "name": "stdout",
     "output_type": "stream",
     "text": [
      "month      user      \n",
      "January    Customer        4788\n",
      "           Subscriber     65104\n",
      "February   Customer        6774\n",
      "           Subscriber     73676\n",
      "March      Customer       14522\n",
      "           Subscriber     87859\n",
      "April      Customer       34810\n",
      "           Subscriber    131865\n",
      "May        Customer       51982\n",
      "           Subscriber    171059\n",
      "June       Customer       73708\n",
      "           Subscriber    200401\n",
      "July       Customer       82105\n",
      "           Subscriber    234914\n",
      "August     Customer       87334\n",
      "           Subscriber    250134\n",
      "September  Customer       82191\n",
      "           Subscriber    281049\n",
      "October    Customer       56709\n",
      "           Subscriber    248806\n",
      "November   Customer       28447\n",
      "           Subscriber    162325\n",
      "December   Customer       10907\n",
      "           Subscriber     81302\n",
      "dtype: int64\n"
     ]
    }
   ],
   "source": [
    "#grouping on monthly basis \n",
    "data3 = df.groupby([\"month\",\"user\"]).size()\n",
    "print(data3)"
   ]
  },
  {
   "cell_type": "code",
   "execution_count": 14,
   "metadata": {},
   "outputs": [
    {
     "data": {
      "image/png": "[encoded data removed]",
      "text/plain": [
       "<Figure size 432x288 with 1 Axes>"
      ]
     },
     "metadata": {
      "needs_background": "light"
     },
     "output_type": "display_data"
    }
   ],
   "source": [
    "#making the graphik\n",
    "# set width of bar\n",
    "barWidth = 0.25\n",
    "\n",
    "# set height of bar\n",
    "bars1= data3.loc[(data3.index.get_level_values('user') ==\"Subscriber\")].values\n",
    "bars2 = data3.loc[(data3.index.get_level_values('user') ==\"Customer\")].values\n",
    "\n",
    "\n",
    "# Set position of bar on X axis\n",
    "r1 = np.arange(len(bars1))\n",
    "r2 = [x + barWidth for x in r1]\n",
    "\n",
    "# Make the plot\n",
    "plt.bar(r1, bars1, color='orange', width=barWidth, edgecolor='white', label='Subscriber')\n",
    "plt.bar(r2, bars2, color='blue', width=barWidth, edgecolor='white', label='Customer')\n",
    "\n",
    "# Add xticks on the middle of the group bars\n",
    "plt.xlabel('group', fontweight='bold')\n",
    "plt.xticks([r + barWidth for r in range(len(bars1))], data3.index.get_level_values('month').unique())\n",
    "\n",
    "# Create legend & Show graphic\n",
    "plt.legend()\n",
    "plt.xlabel(\"Month\")\n",
    "plt.ylabel(\"Rents\")\n",
    "plt.show()"
   ]
  },
  {
   "cell_type": "code",
   "execution_count": 15,
   "metadata": {},
   "outputs": [],
   "source": [
    "#to check how many rents over the weeks on a year\n",
    "df['week_of_the_year'] = df['date_time'].dt.isocalendar().week"
   ]
  },
  {
   "cell_type": "code",
   "execution_count": 16,
   "metadata": {},
   "outputs": [
    {
     "name": "stdout",
     "output_type": "stream",
     "text": [
      "week_of_the_year  user      \n",
      "1                 Customer       1654\n",
      "                  Subscriber    13580\n",
      "2                 Customer        962\n",
      "                  Subscriber    16653\n",
      "3                 Customer        988\n",
      "                                ...  \n",
      "50                Subscriber    26312\n",
      "51                Customer       1750\n",
      "                  Subscriber    18452\n",
      "52                Customer       2939\n",
      "                  Subscriber    10612\n",
      "Length: 104, dtype: int64\n"
     ]
    }
   ],
   "source": [
    "#grouping weekly basis\n",
    "data4 = df.groupby([\"week_of_the_year\",\"user\"]).size()\n",
    "print(data4)"
   ]
  },
  {
   "cell_type": "code",
   "execution_count": 17,
   "metadata": {},
   "outputs": [],
   "source": [
    "#making the graphik, i have a little bit of troubles, ill fix it later\n",
    "# set width of bar\n"
   ]
  },
  {
   "cell_type": "code",
   "execution_count": 18,
   "metadata": {},
   "outputs": [],
   "source": [
    "#new data frame to check the average drive time\n",
    "df2 = pd.DataFrame(Dataset['start_time'])\n",
    "df2['start_time'] = pd.to_datetime(df2.start_time)"
   ]
  },
  {
   "cell_type": "code",
   "execution_count": 19,
   "metadata": {},
   "outputs": [],
   "source": [
    "#we will need start time as well as end time to \n",
    "#calculate the drove time\n",
    "df2['end_time'] = pd.to_datetime(Dataset['end_time']) "
   ]
  },
  {
   "cell_type": "code",
   "execution_count": 20,
   "metadata": {},
   "outputs": [
    {
     "data": {
      "text/html": [
       "<div>\n",
       "<style scoped>\n",
       "    .dataframe tbody tr th:only-of-type {\n",
       "        vertical-align: middle;\n",
       "    }\n",
       "\n",
       "    .dataframe tbody tr th {\n",
       "        vertical-align: top;\n",
       "    }\n",
       "\n",
       "    .dataframe thead th {\n",
       "        text-align: right;\n",
       "    }\n",
       "</style>\n",
       "<table border=\"1\" class=\"dataframe\">\n",
       "  <thead>\n",
       "    <tr style=\"text-align: right;\">\n",
       "      <th></th>\n",
       "      <th>start_time</th>\n",
       "      <th>end_time</th>\n",
       "      <th>drive_time_in_date</th>\n",
       "    </tr>\n",
       "  </thead>\n",
       "  <tbody>\n",
       "    <tr>\n",
       "      <th>0</th>\n",
       "      <td>2019-01-01 00:09:13.798</td>\n",
       "      <td>2019-01-01 00:15:25.336</td>\n",
       "      <td>0 days 00:06:11.538000</td>\n",
       "    </tr>\n",
       "    <tr>\n",
       "      <th>1</th>\n",
       "      <td>2019-01-01 00:33:56.182</td>\n",
       "      <td>2019-01-01 00:38:20.880</td>\n",
       "      <td>0 days 00:04:24.698000</td>\n",
       "    </tr>\n",
       "    <tr>\n",
       "      <th>2</th>\n",
       "      <td>2019-01-01 00:41:54.600</td>\n",
       "      <td>2019-01-01 00:49:33.273</td>\n",
       "      <td>0 days 00:07:38.673000</td>\n",
       "    </tr>\n",
       "    <tr>\n",
       "      <th>3</th>\n",
       "      <td>2019-01-01 00:43:32.571</td>\n",
       "      <td>2019-01-01 00:49:37.426</td>\n",
       "      <td>0 days 00:06:04.855000</td>\n",
       "    </tr>\n",
       "    <tr>\n",
       "      <th>4</th>\n",
       "      <td>2019-01-01 00:49:56.464</td>\n",
       "      <td>2019-01-01 01:01:17.701</td>\n",
       "      <td>0 days 00:11:21.237000</td>\n",
       "    </tr>\n",
       "  </tbody>\n",
       "</table>\n",
       "</div>"
      ],
      "text/plain": [
       "               start_time                end_time     drive_time_in_date\n",
       "0 2019-01-01 00:09:13.798 2019-01-01 00:15:25.336 0 days 00:06:11.538000\n",
       "1 2019-01-01 00:33:56.182 2019-01-01 00:38:20.880 0 days 00:04:24.698000\n",
       "2 2019-01-01 00:41:54.600 2019-01-01 00:49:33.273 0 days 00:07:38.673000\n",
       "3 2019-01-01 00:43:32.571 2019-01-01 00:49:37.426 0 days 00:06:04.855000\n",
       "4 2019-01-01 00:49:56.464 2019-01-01 01:01:17.701 0 days 00:11:21.237000"
      ]
     },
     "execution_count": 20,
     "metadata": {},
     "output_type": "execute_result"
    }
   ],
   "source": [
    "#new column will be added witch the time on a date format\n",
    "df2['drive_time_in_date'] = df2['end_time']-df2['start_time']\n",
    "df2.head()"
   ]
  },
  {
   "cell_type": "code",
   "execution_count": 21,
   "metadata": {},
   "outputs": [],
   "source": [
    "#new column transforming each date format of the drive to seconds\n",
    "df2['time_in_seconds'] = df2['drive_time_in_date'].dt.total_seconds() "
   ]
  },
  {
   "cell_type": "code",
   "execution_count": 22,
   "metadata": {},
   "outputs": [],
   "source": [
    "#new column of drive time in second to minutes \n",
    "df2['time_in_minutes'] = df2['time_in_seconds']/60"
   ]
  },
  {
   "cell_type": "code",
   "execution_count": 23,
   "metadata": {},
   "outputs": [],
   "source": [
    "#we need now a new column with the rounded time\n",
    "df2['date_time'] = df2['start_time'].dt.round('60min')"
   ]
  },
  {
   "cell_type": "code",
   "execution_count": 24,
   "metadata": {},
   "outputs": [
    {
     "name": "stdout",
     "output_type": "stream",
     "text": [
      "               date_time  time_in_minutes\n",
      "0    2019-01-01 00:00:00         6.192300\n",
      "1    2019-01-01 01:00:00        17.870506\n",
      "2    2019-01-01 02:00:00        45.232271\n",
      "3    2019-01-01 03:00:00        16.173113\n",
      "4    2019-01-01 04:00:00         5.885225\n",
      "...                  ...              ...\n",
      "8697 2019-12-31 20:00:00        14.821820\n",
      "8698 2019-12-31 21:00:00        22.375911\n",
      "8699 2019-12-31 22:00:00        12.014348\n",
      "8700 2019-12-31 23:00:00        19.632486\n",
      "8701 2020-01-01 00:00:00        10.458193\n",
      "\n",
      "[8702 rows x 2 columns]\n"
     ]
    }
   ],
   "source": [
    "data5 = df2.groupby(\"date_time\")['time_in_minutes'].mean().reset_index()\n",
    "print(data5)"
   ]
  },
  {
   "cell_type": "code",
   "execution_count": 25,
   "metadata": {
    "scrolled": true
   },
   "outputs": [
    {
     "data": {
      "text/html": [
       "<div>\n",
       "<style scoped>\n",
       "    .dataframe tbody tr th:only-of-type {\n",
       "        vertical-align: middle;\n",
       "    }\n",
       "\n",
       "    .dataframe tbody tr th {\n",
       "        vertical-align: top;\n",
       "    }\n",
       "\n",
       "    .dataframe thead th {\n",
       "        text-align: right;\n",
       "    }\n",
       "</style>\n",
       "<table border=\"1\" class=\"dataframe\">\n",
       "  <thead>\n",
       "    <tr style=\"text-align: right;\">\n",
       "      <th></th>\n",
       "      <th>start_time</th>\n",
       "      <th>end_time</th>\n",
       "      <th>drive_time_in_date</th>\n",
       "      <th>time_in_seconds</th>\n",
       "      <th>time_in_minutes</th>\n",
       "      <th>date_time</th>\n",
       "      <th>Day</th>\n",
       "    </tr>\n",
       "  </thead>\n",
       "  <tbody>\n",
       "    <tr>\n",
       "      <th>0</th>\n",
       "      <td>2019-01-01 00:09:13.798</td>\n",
       "      <td>2019-01-01 00:15:25.336</td>\n",
       "      <td>0 days 00:06:11.538000</td>\n",
       "      <td>371.538</td>\n",
       "      <td>6.192300</td>\n",
       "      <td>2019-01-01 00:00:00</td>\n",
       "      <td>Tuesday</td>\n",
       "    </tr>\n",
       "    <tr>\n",
       "      <th>1</th>\n",
       "      <td>2019-01-01 00:33:56.182</td>\n",
       "      <td>2019-01-01 00:38:20.880</td>\n",
       "      <td>0 days 00:04:24.698000</td>\n",
       "      <td>264.698</td>\n",
       "      <td>4.411633</td>\n",
       "      <td>2019-01-01 01:00:00</td>\n",
       "      <td>Tuesday</td>\n",
       "    </tr>\n",
       "    <tr>\n",
       "      <th>2</th>\n",
       "      <td>2019-01-01 00:41:54.600</td>\n",
       "      <td>2019-01-01 00:49:33.273</td>\n",
       "      <td>0 days 00:07:38.673000</td>\n",
       "      <td>458.673</td>\n",
       "      <td>7.644550</td>\n",
       "      <td>2019-01-01 01:00:00</td>\n",
       "      <td>Tuesday</td>\n",
       "    </tr>\n",
       "    <tr>\n",
       "      <th>3</th>\n",
       "      <td>2019-01-01 00:43:32.571</td>\n",
       "      <td>2019-01-01 00:49:37.426</td>\n",
       "      <td>0 days 00:06:04.855000</td>\n",
       "      <td>364.855</td>\n",
       "      <td>6.080917</td>\n",
       "      <td>2019-01-01 01:00:00</td>\n",
       "      <td>Tuesday</td>\n",
       "    </tr>\n",
       "    <tr>\n",
       "      <th>4</th>\n",
       "      <td>2019-01-01 00:49:56.464</td>\n",
       "      <td>2019-01-01 01:01:17.701</td>\n",
       "      <td>0 days 00:11:21.237000</td>\n",
       "      <td>681.237</td>\n",
       "      <td>11.353950</td>\n",
       "      <td>2019-01-01 01:00:00</td>\n",
       "      <td>Tuesday</td>\n",
       "    </tr>\n",
       "  </tbody>\n",
       "</table>\n",
       "</div>"
      ],
      "text/plain": [
       "               start_time                end_time     drive_time_in_date  \\\n",
       "0 2019-01-01 00:09:13.798 2019-01-01 00:15:25.336 0 days 00:06:11.538000   \n",
       "1 2019-01-01 00:33:56.182 2019-01-01 00:38:20.880 0 days 00:04:24.698000   \n",
       "2 2019-01-01 00:41:54.600 2019-01-01 00:49:33.273 0 days 00:07:38.673000   \n",
       "3 2019-01-01 00:43:32.571 2019-01-01 00:49:37.426 0 days 00:06:04.855000   \n",
       "4 2019-01-01 00:49:56.464 2019-01-01 01:01:17.701 0 days 00:11:21.237000   \n",
       "\n",
       "   time_in_seconds  time_in_minutes           date_time      Day  \n",
       "0          371.538         6.192300 2019-01-01 00:00:00  Tuesday  \n",
       "1          264.698         4.411633 2019-01-01 01:00:00  Tuesday  \n",
       "2          458.673         7.644550 2019-01-01 01:00:00  Tuesday  \n",
       "3          364.855         6.080917 2019-01-01 01:00:00  Tuesday  \n",
       "4          681.237        11.353950 2019-01-01 01:00:00  Tuesday  "
      ]
     },
     "execution_count": 25,
     "metadata": {},
     "output_type": "execute_result"
    }
   ],
   "source": [
    "df2['Day'] = df2['date_time'].dt.day_name()\n",
    "df2.head()"
   ]
  },
  {
   "cell_type": "code",
   "execution_count": 26,
   "metadata": {},
   "outputs": [],
   "source": [
    "df2['Day'] = pd.Categorical(df2['Day'], categories = ['Monday','Tuesday','Wednesday','Thursday','Friday','Saturday','Sunday'],ordered = True)"
   ]
  },
  {
   "cell_type": "code",
   "execution_count": 27,
   "metadata": {},
   "outputs": [
    {
     "name": "stdout",
     "output_type": "stream",
     "text": [
      "         Day  time_in_minutes\n",
      "0     Monday        30.006112\n",
      "1    Tuesday        29.052584\n",
      "2  Wednesday        27.490968\n",
      "3   Thursday        34.440894\n",
      "4     Friday        35.500755\n",
      "5   Saturday        57.827408\n",
      "6     Sunday        45.916167\n"
     ]
    }
   ],
   "source": [
    "data6 = df2.groupby(\"Day\")['time_in_minutes'].mean().reset_index()\n",
    "data6 = data6.sort_index()\n",
    "print(data6)"
   ]
  },
  {
   "cell_type": "code",
   "execution_count": 28,
   "metadata": {
    "scrolled": false
   },
   "outputs": [
    {
     "data": {
      "image/png": "[encoded data removed]",
      "text/plain": [
       "<Figure size 432x288 with 1 Axes>"
      ]
     },
     "metadata": {
      "needs_background": "light"
     },
     "output_type": "display_data"
    }
   ],
   "source": [
    "#graphic of the average drive time of the days over a year\n",
    "plt.bar(data6['Day'],data6['time_in_minutes'], width=0.25, color='orange')\n",
    "plt.xlabel('Day of the week')\n",
    "plt.ylabel('average drive time in min')\n",
    "plt.title('average drive time per day of a week')\n",
    "plt.figure.figsize=(15,15)\n"
   ]
  },
  {
   "cell_type": "code",
   "execution_count": 29,
   "metadata": {},
   "outputs": [],
   "source": [
    "#creating another column named month to have each month number \n",
    "df2['Month'] = df2['date_time'].dt.month_name()"
   ]
  },
  {
   "cell_type": "code",
   "execution_count": 30,
   "metadata": {},
   "outputs": [],
   "source": [
    "#to make the months in order\n",
    "df2['Month'] = pd.Categorical(df2['Month'], categories = ['January','February','March','April','May','June','July','August','September','October','November','December'],ordered = True)"
   ]
  },
  {
   "cell_type": "code",
   "execution_count": 31,
   "metadata": {
    "scrolled": true
   },
   "outputs": [],
   "source": [
    "data7 = df2.groupby(\"Month\")['time_in_minutes'].mean().reset_index()\n"
   ]
  },
  {
   "cell_type": "code",
   "execution_count": 32,
   "metadata": {},
   "outputs": [
    {
     "data": {
      "image/png": "[encoded data removed]",
      "text/plain": [
       "<Figure size 432x288 with 1 Axes>"
      ]
     },
     "metadata": {
      "needs_background": "light"
     },
     "output_type": "display_data"
    }
   ],
   "source": [
    "#graphic of the average drive time evry month of the year\n",
    "plt.bar(data7['Month'],data7['time_in_minutes'], width=0.25, color='orange')\n",
    "plt.xlabel('Month')\n",
    "plt.xticks(range(0,13))\n",
    "plt.ylabel('average drive time in min')\n",
    "plt.title('average drive time per month')\n",
    "plt.figure.figsize=(15,15)\n"
   ]
  },
  {
   "cell_type": "code",
   "execution_count": 33,
   "metadata": {
    "scrolled": true
   },
   "outputs": [],
   "source": [
    "#data of average time of every week of the year\n",
    "df2 ['week'] = df2['date_time'].dt.isocalendar().week\n",
    "data8 = df2.groupby(\"week\")['time_in_minutes'].mean().reset_index()\n"
   ]
  },
  {
   "cell_type": "code",
   "execution_count": 34,
   "metadata": {
    "scrolled": true
   },
   "outputs": [
    {
     "data": {
      "image/png": "[encoded data removed]",
      "text/plain": [
       "<Figure size 432x288 with 1 Axes>"
      ]
     },
     "metadata": {
      "needs_background": "light"
     },
     "output_type": "display_data"
    }
   ],
   "source": [
    "#graphic fot the average drive time of every week of the year \n",
    "plt.bar(data8['week'],data8['time_in_minutes'], width=0.25, color='purple')\n",
    "plt.xlabel('Week of the year')\n",
    "plt.ylabel('average drive time in min')\n",
    "plt.title('average drive time in weeks')\n",
    "plt.figure.figsize=(15,15)"
   ]
  },
  {
   "cell_type": "code",
   "execution_count": 35,
   "metadata": {},
   "outputs": [
    {
     "name": "stdout",
     "output_type": "stream",
     "text": [
      "    date_time  time_in_minutes\n",
      "0           0        66.432258\n",
      "1           1       115.169429\n",
      "2           2       225.179291\n",
      "3           3       182.504250\n",
      "4           4       255.978662\n",
      "5           5        49.941348\n",
      "6           6        19.844058\n",
      "7           7        22.284825\n",
      "8           8        17.641505\n",
      "9           9        16.448875\n",
      "10         10        26.350023\n",
      "11         11        27.896390\n",
      "12         12        35.247838\n",
      "13         13        35.772656\n",
      "14         14        33.699356\n",
      "15         15        46.791930\n",
      "16         16        43.954416\n",
      "17         17        30.406589\n",
      "18         18        35.109946\n",
      "19         19        41.071022\n",
      "20         20        45.152605\n",
      "21         21        33.213633\n",
      "22         22        60.584616\n",
      "23         23        72.697849\n"
     ]
    }
   ],
   "source": [
    "data9 = df2.groupby(df2.date_time.dt.hour)['time_in_minutes'].mean().reset_index()\n",
    "print(data9)"
   ]
  },
  {
   "cell_type": "code",
   "execution_count": 36,
   "metadata": {},
   "outputs": [
    {
     "data": {
      "image/png": "[encoded data removed]",
      "text/plain": [
       "<Figure size 432x288 with 1 Axes>"
      ]
     },
     "metadata": {
      "needs_background": "light"
     },
     "output_type": "display_data"
    }
   ],
   "source": [
    "#graphic fot the average drive time of every week of the year \n",
    "plt.bar(data9['date_time'],data9['time_in_minutes'], width=0.25, color='green')\n",
    "plt.xlabel('Hour of the day')\n",
    "plt.xticks(range(0,24))\n",
    "plt.ylabel('average drive time in min')\n",
    "plt.title('average drive hourly drive time on a day')\n",
    "plt.figure.figsize=(15,15)"
   ]
  }
 ],
 "metadata": {
  "kernelspec": {
   "display_name": "Python 3",
   "language": "python",
   "name": "python3"
  },
  "language_info": {
   "codemirror_mode": {
    "name": "ipython",
    "version": 3
   },
   "file_extension": ".py",
   "mimetype": "text/x-python",
   "name": "python",
   "nbconvert_exporter": "python",
   "pygments_lexer": "ipython3",
   "version": "3.8.5"
  }
 },
 "nbformat": 4,
 "nbformat_minor": 4
}
