{
 "cells": [
  {
   "cell_type": "markdown",
   "metadata": {},
   "source": [
    "# Weather data"
   ]
  },
  {
   "cell_type": "code",
   "execution_count": 46,
   "metadata": {},
   "outputs": [
    {
     "name": "stdout",
     "output_type": "stream",
     "text": [
      "<class 'pandas.core.frame.DataFrame'>\n",
      "RangeIndex: 43848 entries, 0 to 43847\n",
      "Data columns (total 4 columns):\n",
      " #   Column     Non-Null Count  Dtype  \n",
      "---  ------     --------------  -----  \n",
      " 0   date_time  43354 non-null  object \n",
      " 1   max_temp   43354 non-null  float64\n",
      " 2   min_temp   43354 non-null  float64\n",
      " 3   precip     43356 non-null  float64\n",
      "dtypes: float64(3), object(1)\n",
      "memory usage: 1.3+ MB\n"
     ]
    }
   ],
   "source": [
    "import pandas as pd\n",
    "import numpy as np\n",
    "from datetime import date, time, datetime, timedelta \n",
    "\n",
    "# Import dataset\n",
    "df_weather = pd.read_csv(\"weather_hourly_boston.csv\", sep=\",\")\n",
    "df_weather.info()"
   ]
  },
  {
   "cell_type": "code",
   "execution_count": 42,
   "metadata": {},
   "outputs": [
    {
     "name": "stderr",
     "output_type": "stream",
     "text": [
      "<ipython-input-42-16c05388c137>:9: SettingWithCopyWarning: \n",
      "A value is trying to be set on a copy of a slice from a DataFrame\n",
      "\n",
      "See the caveats in the documentation: https://pandas.pydata.org/pandas-docs/stable/user_guide/indexing.html#returning-a-view-versus-a-copy\n",
      "  df_weather_2019.sort_values(by=\"date_time\",inplace=True)\n"
     ]
    }
   ],
   "source": [
    "# only use 2019 data\n",
    "\n",
    "first_date = datetime(year=2019, day=1, month=1)\n",
    "last_date = datetime(year=2019, day=31, month=12)\n",
    "\n",
    "df_weather[\"date_time\"] = pd.to_datetime(df_weather[\"date_time\"], infer_datetime_format=True)\n",
    "df_weather_2019 = df_weather[(df_weather[\"date_time\"]>=first_date)&(df_weather[\"date_time\"]<=last_date)]\n",
    "\n",
    "df_weather_2019.sort_values(by=\"date_time\",inplace=True)"
   ]
  },
  {
   "cell_type": "markdown",
   "metadata": {},
   "source": [
    "#  Script for elimination of null values and duplicates from the dataset \n",
    "The script deletes all null values and duplicates from the dataset.\n"
   ]
  },
  {
   "cell_type": "code",
   "execution_count": 40,
   "metadata": {},
   "outputs": [
    {
     "name": "stdout",
     "output_type": "stream",
     "text": [
      "<class 'pandas.core.frame.DataFrame'>\n",
      "Int64Index: 8194 entries, 35063 to 43776\n",
      "Data columns (total 4 columns):\n",
      " #   Column     Non-Null Count  Dtype         \n",
      "---  ------     --------------  -----         \n",
      " 0   date_time  8194 non-null   datetime64[ns]\n",
      " 1   max_temp   8194 non-null   float64       \n",
      " 2   min_temp   8194 non-null   float64       \n",
      " 3   precip     8194 non-null   float64       \n",
      "dtypes: datetime64[ns](1), float64(3)\n",
      "memory usage: 320.1 KB\n"
     ]
    },
    {
     "data": {
      "text/html": [
       "<div>\n",
       "<style scoped>\n",
       "    .dataframe tbody tr th:only-of-type {\n",
       "        vertical-align: middle;\n",
       "    }\n",
       "\n",
       "    .dataframe tbody tr th {\n",
       "        vertical-align: top;\n",
       "    }\n",
       "\n",
       "    .dataframe thead th {\n",
       "        text-align: right;\n",
       "    }\n",
       "</style>\n",
       "<table border=\"1\" class=\"dataframe\">\n",
       "  <thead>\n",
       "    <tr style=\"text-align: right;\">\n",
       "      <th></th>\n",
       "      <th>date_time</th>\n",
       "      <th>max_temp</th>\n",
       "      <th>min_temp</th>\n",
       "      <th>precip</th>\n",
       "    </tr>\n",
       "  </thead>\n",
       "  <tbody>\n",
       "    <tr>\n",
       "      <th>35063</th>\n",
       "      <td>2019-01-01 00:00:00</td>\n",
       "      <td>5.6</td>\n",
       "      <td>5.6</td>\n",
       "      <td>1.0</td>\n",
       "    </tr>\n",
       "    <tr>\n",
       "      <th>35040</th>\n",
       "      <td>2019-01-01 01:00:00</td>\n",
       "      <td>3.9</td>\n",
       "      <td>3.9</td>\n",
       "      <td>1.0</td>\n",
       "    </tr>\n",
       "    <tr>\n",
       "      <th>35041</th>\n",
       "      <td>2019-01-01 02:00:00</td>\n",
       "      <td>3.3</td>\n",
       "      <td>3.3</td>\n",
       "      <td>1.0</td>\n",
       "    </tr>\n",
       "    <tr>\n",
       "      <th>35042</th>\n",
       "      <td>2019-01-01 03:00:00</td>\n",
       "      <td>2.8</td>\n",
       "      <td>2.8</td>\n",
       "      <td>1.0</td>\n",
       "    </tr>\n",
       "    <tr>\n",
       "      <th>35044</th>\n",
       "      <td>2019-01-01 04:00:00</td>\n",
       "      <td>3.9</td>\n",
       "      <td>3.3</td>\n",
       "      <td>1.0</td>\n",
       "    </tr>\n",
       "    <tr>\n",
       "      <th>...</th>\n",
       "      <td>...</td>\n",
       "      <td>...</td>\n",
       "      <td>...</td>\n",
       "      <td>...</td>\n",
       "    </tr>\n",
       "    <tr>\n",
       "      <th>43795</th>\n",
       "      <td>2019-12-30 19:00:00</td>\n",
       "      <td>3.9</td>\n",
       "      <td>3.9</td>\n",
       "      <td>1.0</td>\n",
       "    </tr>\n",
       "    <tr>\n",
       "      <th>43796</th>\n",
       "      <td>2019-12-30 21:00:00</td>\n",
       "      <td>3.3</td>\n",
       "      <td>2.8</td>\n",
       "      <td>1.0</td>\n",
       "    </tr>\n",
       "    <tr>\n",
       "      <th>43798</th>\n",
       "      <td>2019-12-30 22:00:00</td>\n",
       "      <td>3.9</td>\n",
       "      <td>3.3</td>\n",
       "      <td>1.0</td>\n",
       "    </tr>\n",
       "    <tr>\n",
       "      <th>43799</th>\n",
       "      <td>2019-12-30 23:00:00</td>\n",
       "      <td>3.9</td>\n",
       "      <td>3.9</td>\n",
       "      <td>1.0</td>\n",
       "    </tr>\n",
       "    <tr>\n",
       "      <th>43776</th>\n",
       "      <td>2019-12-31 00:00:00</td>\n",
       "      <td>3.9</td>\n",
       "      <td>2.8</td>\n",
       "      <td>0.0</td>\n",
       "    </tr>\n",
       "  </tbody>\n",
       "</table>\n",
       "<p>8194 rows × 4 columns</p>\n",
       "</div>"
      ],
      "text/plain": [
       "                date_time  max_temp  min_temp  precip\n",
       "35063 2019-01-01 00:00:00       5.6       5.6     1.0\n",
       "35040 2019-01-01 01:00:00       3.9       3.9     1.0\n",
       "35041 2019-01-01 02:00:00       3.3       3.3     1.0\n",
       "35042 2019-01-01 03:00:00       2.8       2.8     1.0\n",
       "35044 2019-01-01 04:00:00       3.9       3.3     1.0\n",
       "...                   ...       ...       ...     ...\n",
       "43795 2019-12-30 19:00:00       3.9       3.9     1.0\n",
       "43796 2019-12-30 21:00:00       3.3       2.8     1.0\n",
       "43798 2019-12-30 22:00:00       3.9       3.3     1.0\n",
       "43799 2019-12-30 23:00:00       3.9       3.9     1.0\n",
       "43776 2019-12-31 00:00:00       3.9       2.8     0.0\n",
       "\n",
       "[8194 rows x 4 columns]"
      ]
     },
     "execution_count": 40,
     "metadata": {},
     "output_type": "execute_result"
    }
   ],
   "source": [
    "df_weather_2019 = df_weather_2019.dropna()\n",
    "df_weather_2019.info()\n",
    "df_weather_2019 = df_weather_2019.drop_duplicates(subset = ['date_time'])\n",
    "df_weather_2019"
   ]
  },
  {
   "cell_type": "markdown",
   "metadata": {},
   "source": [
    "# Script for temperature validation of each day\n",
    "The script checks the validility of the minimum and maximum temperature of each day. The output is the number of rows where the minimum temperature is higher than the maximum temperature."
   ]
  },
  {
   "cell_type": "code",
   "execution_count": 44,
   "metadata": {},
   "outputs": [
    {
     "name": "stdout",
     "output_type": "stream",
     "text": [
      "0\n"
     ]
    }
   ],
   "source": [
    "# Define required columns\n",
    "temp_columns=[\"min_temp\", \"max_temp\"]\n",
    "\n",
    "# Create DataFrame\n",
    "temp_infos= df_weather_2019[temp_columns]\n",
    "\n",
    "# Define variable that counts the error rows\n",
    "errors = 0\n",
    "\n",
    "# Iterate over all rows and increase error variable by one if minimum temperature is higher than maximum temperature\n",
    "for i in range(0, len(temp_infos)-1):\n",
    "    if(temp_infos.iloc[i,0] > temp_infos.iloc[i,1]):\n",
    "        errors = errors+1\n",
    "        \n",
    "print(errors)"
   ]
  },
  {
   "cell_type": "code",
   "execution_count": 45,
   "metadata": {},
   "outputs": [],
   "source": [
    "df_weather_2019.to_csv('weather_2019.csv')"
   ]
  }
 ],
 "metadata": {
  "kernelspec": {
   "display_name": "Python 3",
   "language": "python",
   "name": "python3"
  },
  "language_info": {
   "codemirror_mode": {
    "name": "ipython",
    "version": 3
   },
   "file_extension": ".py",
   "mimetype": "text/x-python",
   "name": "python",
   "nbconvert_exporter": "python",
   "pygments_lexer": "ipython3",
   "version": "3.8.5"
  }
 },
 "nbformat": 4,
 "nbformat_minor": 4
}
