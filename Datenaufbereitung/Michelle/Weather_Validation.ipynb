{
 "cells": [
  {
   "cell_type": "markdown",
   "metadata": {},
   "source": [
    "# Validation of the weather dataset"
   ]
  },
  {
   "cell_type": "markdown",
   "metadata": {},
   "source": [
    "This script checks the weather dataset for missing and duplicate values, sorts it chronologically by hours in 2019 and checks the validity of the start and end times. It also shows the maximum and minimum temperature in 2019."
   ]
  },
  {
   "cell_type": "code",
   "execution_count": 2,
   "metadata": {},
   "outputs": [
    {
     "name": "stdout",
     "output_type": "stream",
     "text": [
      "<class 'pandas.core.frame.DataFrame'>\n",
      "RangeIndex: 43848 entries, 0 to 43847\n",
      "Data columns (total 4 columns):\n",
      " #   Column     Non-Null Count  Dtype  \n",
      "---  ------     --------------  -----  \n",
      " 0   date_time  43354 non-null  object \n",
      " 1   max_temp   43354 non-null  float64\n",
      " 2   min_temp   43354 non-null  float64\n",
      " 3   precip     43356 non-null  float64\n",
      "dtypes: float64(3), object(1)\n",
      "memory usage: 1.3+ MB\n"
     ]
    }
   ],
   "source": [
    "import pandas as pd\n",
    "import numpy as np\n",
    "from datetime import date, time, datetime, timedelta \n",
    "\n",
    "# Import dataset\n",
    "df_weather = pd.read_csv(\"weather_hourly_boston.csv\", sep=\",\")\n",
    "df_weather.info()"
   ]
  },
  {
   "cell_type": "code",
   "execution_count": 3,
   "metadata": {},
   "outputs": [
    {
     "name": "stderr",
     "output_type": "stream",
     "text": [
      "<ipython-input-3-16c05388c137>:9: SettingWithCopyWarning: \n",
      "A value is trying to be set on a copy of a slice from a DataFrame\n",
      "\n",
      "See the caveats in the documentation: https://pandas.pydata.org/pandas-docs/stable/user_guide/indexing.html#returning-a-view-versus-a-copy\n",
      "  df_weather_2019.sort_values(by=\"date_time\",inplace=True)\n"
     ]
    }
   ],
   "source": [
    "# only use 2019 data\n",
    "\n",
    "first_date = datetime(year=2019, day=1, month=1)\n",
    "last_date = datetime(year=2019, day=31, month=12)\n",
    "\n",
    "df_weather[\"date_time\"] = pd.to_datetime(df_weather[\"date_time\"], infer_datetime_format=True)\n",
    "df_weather_2019 = df_weather[(df_weather[\"date_time\"]>=first_date)&(df_weather[\"date_time\"]<=last_date)]\n",
    "\n",
    "df_weather_2019.sort_values(by=\"date_time\",inplace=True)"
   ]
  },
  {
   "cell_type": "markdown",
   "metadata": {},
   "source": [
    "#  Script for elimination of null values and duplicates from the dataset \n",
    "The script deletes all null values and duplicates from the dataset.\n"
   ]
  },
  {
   "cell_type": "code",
   "execution_count": 12,
   "metadata": {},
   "outputs": [
    {
     "name": "stdout",
     "output_type": "stream",
     "text": [
      "<class 'pandas.core.frame.DataFrame'>\n",
      "Int64Index: 8194 entries, 35063 to 43776\n",
      "Data columns (total 4 columns):\n",
      " #   Column     Non-Null Count  Dtype         \n",
      "---  ------     --------------  -----         \n",
      " 0   date_time  8194 non-null   datetime64[ns]\n",
      " 1   max_temp   8194 non-null   float64       \n",
      " 2   min_temp   8194 non-null   float64       \n",
      " 3   precip     8194 non-null   float64       \n",
      "dtypes: datetime64[ns](1), float64(3)\n",
      "memory usage: 320.1 KB\n",
      "\n",
      "<class 'pandas.core.frame.DataFrame'>\n",
      "Int64Index: 8194 entries, 35063 to 43776\n",
      "Data columns (total 4 columns):\n",
      " #   Column     Non-Null Count  Dtype         \n",
      "---  ------     --------------  -----         \n",
      " 0   date_time  8194 non-null   datetime64[ns]\n",
      " 1   max_temp   8194 non-null   float64       \n",
      " 2   min_temp   8194 non-null   float64       \n",
      " 3   precip     8194 non-null   float64       \n",
      "dtypes: datetime64[ns](1), float64(3)\n",
      "memory usage: 320.1 KB\n"
     ]
    }
   ],
   "source": [
    "df_weather_2019.info()\n",
    "df_weather_2019 = df_weather_2019.dropna()\n",
    "print()\n",
    "df_weather_2019 = df_weather_2019.drop_duplicates(subset = ['date_time'])\n",
    "df_weather_2019.info()"
   ]
  },
  {
   "cell_type": "markdown",
   "metadata": {},
   "source": [
    "# Script for temperature validation of each day\n",
    "The script checks the validility of the minimum and maximum temperature of each day. The output is the number of rows where the minimum temperature is higher than the maximum temperature."
   ]
  },
  {
   "cell_type": "code",
   "execution_count": 5,
   "metadata": {},
   "outputs": [
    {
     "name": "stdout",
     "output_type": "stream",
     "text": [
      "0\n"
     ]
    }
   ],
   "source": [
    "# Define required columns\n",
    "temp_columns=[\"min_temp\", \"max_temp\"]\n",
    "\n",
    "# Create DataFrame\n",
    "temp_infos= df_weather_2019[temp_columns]\n",
    "\n",
    "# Define variable that counts the error rows\n",
    "errors = 0\n",
    "\n",
    "# Iterate over all rows and increase error variable by one if minimum temperature is higher than maximum temperature\n",
    "for i in range(0, len(temp_infos)-1):\n",
    "    if(temp_infos.iloc[i,0] > temp_infos.iloc[i,1]):\n",
    "        errors = errors+1\n",
    "        \n",
    "print(errors)"
   ]
  },
  {
   "cell_type": "markdown",
   "metadata": {},
   "source": [
    "The maximum and minimum temperatures in 2019 are the following:"
   ]
  },
  {
   "cell_type": "code",
   "execution_count": 10,
   "metadata": {},
   "outputs": [
    {
     "name": "stdout",
     "output_type": "stream",
     "text": [
      "Maximum temperature in 2019: \n",
      "36.1\n",
      "Minimum temperature in 2019: \n",
      "-15.0\n"
     ]
    }
   ],
   "source": [
    "print('Maximum temperature in 2019: ')\n",
    "print(df_weather_2019['max_temp'].max())\n",
    "print('Minimum temperature in 2019: ')\n",
    "print(df_weather_2019['min_temp'].min())"
   ]
  },
  {
   "cell_type": "code",
   "execution_count": 51,
   "metadata": {},
   "outputs": [],
   "source": [
    "df_weather_2019.to_csv('weather_2019.csv')"
   ]
  }
 ],
 "metadata": {
  "kernelspec": {
   "display_name": "Python 3",
   "language": "python",
   "name": "python3"
  },
  "language_info": {
   "codemirror_mode": {
    "name": "ipython",
    "version": 3
   },
   "file_extension": ".py",
   "mimetype": "text/x-python",
   "name": "python",
   "nbconvert_exporter": "python",
   "pygments_lexer": "ipython3",
   "version": "3.8.5"
  }
 },
 "nbformat": 4,
 "nbformat_minor": 4
}
