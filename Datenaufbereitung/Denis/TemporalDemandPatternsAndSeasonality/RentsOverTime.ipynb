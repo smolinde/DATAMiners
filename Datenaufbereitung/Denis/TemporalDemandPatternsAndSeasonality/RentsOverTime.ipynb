{
 "cells": [
  {
   "cell_type": "markdown",
   "metadata": {},
   "source": [
    "## Temporal Demand Patterns and Seasonality ##\n",
    "\n",
    "The following script generates suitable datasets for visualization of different demand patterns over (day)hours, weekdays, calendar weeks and months. As this script takes approximately two full hours to run through, grab some popcorn, a cool beverage and/or some other snacks to enjoy a movie of your choice. Here is my suggestion:\n",
    "\n",
    "https://en.wikipedia.org/wiki/Passengers_(2016_film)"
   ]
  },
  {
   "cell_type": "code",
   "execution_count": 1,
   "metadata": {
    "scrolled": true
   },
   "outputs": [],
   "source": [
    "import pandas as pd\n",
    "import numpy as np\n",
    "import matplotlib as mpl\n",
    "import matplotlib.pyplot as plt\n",
    "\n",
    "Dataset = pd.read_csv('boston_2019.csv', sep=',')\n",
    "df = pd.DataFrame(Dataset['start_time'])\n",
    "\n",
    "times = pd.to_datetime(df.start_time)\n",
    "\n",
    "resultPerDaytime = df.groupby([times.dt.hour]).start_time.sum()\n",
    "resultPerWeekday = df.groupby([times.dt.weekday]).start_time.sum()\n",
    "resultPerCalendarWeek = df.groupby([times.dt.isocalendar().week]).start_time.sum()\n",
    "resultPerMonth = df.groupby([times.dt.month]).start_time.sum()\n",
    "\n",
    "dfPerDaytime = pd.DataFrame(resultPerDaytime)\n",
    "dfPerDaytime['Count'] = dfPerDaytime['start_time'].apply(lambda x: x.count(' '))\n",
    "dfPerDaytime = dfPerDaytime.drop('start_time', axis='columns')\n",
    "dfPerDaytime['Daytime'] = range(0, len(dfPerDaytime))\n",
    "dfPerDaytime = dfPerDaytime.set_index('Daytime')\n",
    "\n",
    "dfPerWeekday = pd.DataFrame(resultPerWeekday)\n",
    "dfPerWeekday['Count'] = dfPerWeekday['start_time'].apply(lambda x: x.count(' '))\n",
    "dfPerWeekday = dfPerWeekday.drop('start_time', axis='columns')\n",
    "dfPerWeekday['Weekday'] = range(0, len(dfPerWeekday))\n",
    "dfPerWeekday = dfPerWeekday.set_index('Weekday')\n",
    "\n",
    "dfPerCalendarWeek = pd.DataFrame(resultPerCalendarWeek)\n",
    "dfPerCalendarWeek['Count'] = dfPerCalendarWeek['start_time'].apply(lambda x: x.count(' '))\n",
    "dfPerCalendarWeek = dfPerCalendarWeek.drop('start_time', axis='columns')\n",
    "dfPerCalendarWeek['Weeknumber'] = range(0, len(dfPerCalendarWeek))\n",
    "dfPerCalendarWeek = dfPerCalendarWeek.set_index('Weeknumber')\n",
    "\n",
    "dfPerMonth = pd.DataFrame(resultPerMonth)\n",
    "dfPerMonth['Count'] = dfPerMonth['start_time'].apply(lambda x: x.count(' '))\n",
    "dfPerMonth = dfPerMonth.drop('start_time', axis='columns')\n",
    "dfPerMonth['Month'] = range(0, len(dfPerMonth))\n",
    "dfPerMonth = dfPerMonth.set_index('Month')\n",
    "\n"
   ]
  },
  {
   "cell_type": "markdown",
   "metadata": {},
   "source": [
    "The following code ensures that the sum of all rents in each dataset equals the amount of rents in total. No troubles if the output is True."
   ]
  },
  {
   "cell_type": "code",
   "execution_count": 16,
   "metadata": {},
   "outputs": [
    {
     "name": "stdout",
     "output_type": "stream",
     "text": [
      "True\n"
     ]
    }
   ],
   "source": [
    "print(len(Dataset)\n",
    "      == dfPerMonth[\"Count\"].sum()\n",
    "      == dfPerCalendarWeek[\"Count\"].sum()\n",
    "      == dfPerWeekday[\"Count\"].sum()\n",
    "      == dfPerDaytime[\"Count\"].sum()\n",
    "     )"
   ]
  },
  {
   "cell_type": "markdown",
   "metadata": {},
   "source": [
    "The next few lines ensure that if something goes wrong you won't be forced to watch another movie:"
   ]
  },
  {
   "cell_type": "code",
   "execution_count": 7,
   "metadata": {},
   "outputs": [],
   "source": [
    "dfPerDaytime.to_csv(\"RentsPerDaytime_2019.csv\")\n",
    "dfPerWeekday.to_csv(\"RentsPerWeekday_2019.csv\")\n",
    "dfPerCalendarWeek.to_csv(\"RentsPerCalendarWeek_2019.csv\")\n",
    "dfPerMonth.to_csv(\"RentsPerMonth_2019.csv\")"
   ]
  },
  {
   "cell_type": "markdown",
   "metadata": {},
   "source": [
    "As a result we have four smaller datasets with useful rent sums that have to be visualized in another script."
   ]
  }
 ],
 "metadata": {
  "kernelspec": {
   "display_name": "Python 3",
   "language": "python",
   "name": "python3"
  },
  "language_info": {
   "codemirror_mode": {
    "name": "ipython",
    "version": 3
   },
   "file_extension": ".py",
   "mimetype": "text/x-python",
   "name": "python",
   "nbconvert_exporter": "python",
   "pygments_lexer": "ipython3",
   "version": "3.8.5"
  }
 },
 "nbformat": 4,
 "nbformat_minor": 2
}
