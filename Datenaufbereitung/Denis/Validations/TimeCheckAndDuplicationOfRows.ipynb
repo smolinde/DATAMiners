{
 "cells": [
  {
   "cell_type": "markdown",
   "metadata": {},
   "source": [
    "## Script For Date And Time Validation For Every Rent And Unique Rows In Dataset ##\n",
    "\n",
    "This script checks the validity of the start time and end time of a ride. The output will be the amount of rows where the start time is not earlier than the end time. Later the script validates that the dataset has no duplicated rows."
   ]
  },
  {
   "cell_type": "code",
   "execution_count": 2,
   "metadata": {},
   "outputs": [
    {
     "name": "stdout",
     "output_type": "stream",
     "text": [
      "0\n"
     ]
    }
   ],
   "source": [
    "import pandas as pd\n",
    "#Import Dataset\n",
    "Datensatz = pd.read_csv(\"boston_2019.csv\")\n",
    "\n",
    "#Define required columns\n",
    "time_columns = [\"start_time\",\"end_time\"]\n",
    "\n",
    "#Create DataFrame\n",
    "Timeinfos = Datensatz[time_columns]\n",
    "\n",
    "#Define variable that counts the error rows\n",
    "errors = 0\n",
    "\n",
    "#Iterate over all rows and increase error variable by one if start time is not earlier than the end time\n",
    "for i in range(0,len(Timeinfos)-1):\n",
    "    if (not(Timeinfos.iloc[i,0] < Timeinfos.iloc[i,1])):\n",
    "        errors = errors + 1\n",
    "\n",
    "#Print result of script. In case of 0 the data is valid.        \n",
    "print(errors)"
   ]
  },
  {
   "cell_type": "markdown",
   "metadata": {},
   "source": [
    "After execution, the output is 0. This indicates that all date and time stamps are valid. The next few lines show how many duplicated lines are contained in the dataset:"
   ]
  },
  {
   "cell_type": "code",
   "execution_count": 20,
   "metadata": {},
   "outputs": [
    {
     "name": "stdout",
     "output_type": "stream",
     "text": [
      "0\n"
     ]
    }
   ],
   "source": [
    "Test_Datensatz = pd.DataFrame(Datensatz.duplicated())\n",
    "Test_Datensatz.columns = ['duplicated']\n",
    "print((Test_Datensatz['duplicated']==True).sum())"
   ]
  },
  {
   "cell_type": "markdown",
   "metadata": {},
   "source": [
    "If the output is 0, the dataset has only unique lines."
   ]
  },
  {
   "cell_type": "code",
   "execution_count": null,
   "metadata": {},
   "outputs": [],
   "source": []
  }
 ],
 "metadata": {
  "kernelspec": {
   "display_name": "Python 3",
   "language": "python",
   "name": "python3"
  },
  "language_info": {
   "codemirror_mode": {
    "name": "ipython",
    "version": 3
   },
   "file_extension": ".py",
   "mimetype": "text/x-python",
   "name": "python",
   "nbconvert_exporter": "python",
   "pygments_lexer": "ipython3",
   "version": "3.8.5"
  }
 },
 "nbformat": 4,
 "nbformat_minor": 2
}
