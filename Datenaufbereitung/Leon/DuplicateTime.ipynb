{
 "cells": [
  {
   "cell_type": "markdown",
   "metadata": {},
   "source": []
  },
  {
   "cell_type": "code",
   "execution_count": 21,
   "metadata": {},
   "outputs": [
    {
     "name": "stdout",
     "output_type": "stream",
     "text": [
      "hour_number\n",
      "0       2019-01-01 00:00:00\n",
      "1       2019-01-01 01:00:00\n",
      "2       2019-01-01 02:00:00\n",
      "3       2019-01-01 03:00:00\n",
      "4       2019-01-01 04:00:00\n",
      "               ...         \n",
      "8695    2019-12-31 19:00:00\n",
      "8696    2019-12-31 20:00:00\n",
      "8697    2019-12-31 21:00:00\n",
      "8698    2019-12-31 22:00:00\n",
      "8699    2019-12-31 23:00:00\n",
      "Name: hour, Length: 8700, dtype: object\n"
     ]
    }
   ],
   "source": [
    "import pandas as pd\n",
    "import numpy as np\n",
    "\n",
    "Dataset = pd.read_csv(\"boston_2019.csv\")\n",
    "df = pd.DataFrame(Dataset['start_time'])\n",
    "times = pd.to_datetime(df.start_time)\n",
    "df_agg = df.groupby([times.dt.date, times.dt.hour]).agg(lambda col: col.tolist())\n",
    "\n",
    "df_agg['hour'] = ''\n",
    "\n",
    "# Write date and hour for every line to identify exactly the hour\n",
    "for i in range(0, len(df_agg)):\n",
    "    df_agg['hour'].iloc[i] = pd.to_datetime(df_agg['start_time'].iloc[i][0]).floor('h')\n",
    "    \n",
    "df_agg['hour_number'] = np.arange(0, len(df_agg))\n",
    "df_agg = df_agg.set_index('hour_number')\n",
    "df_result = df_agg['hour']\n",
    "print(df_result)"
   ]
  },
  {
   "cell_type": "code",
   "execution_count": null,
   "metadata": {},
   "outputs": [],
   "source": []
  }
 ],
 "metadata": {
  "kernelspec": {
   "display_name": "Python 3",
   "language": "python",
   "name": "python3"
  },
  "language_info": {
   "codemirror_mode": {
    "name": "ipython",
    "version": 3
   },
   "file_extension": ".py",
   "mimetype": "text/x-python",
   "name": "python",
   "nbconvert_exporter": "python",
   "pygments_lexer": "ipython3",
   "version": "3.8.5"
  }
 },
 "nbformat": 4,
 "nbformat_minor": 4
}
